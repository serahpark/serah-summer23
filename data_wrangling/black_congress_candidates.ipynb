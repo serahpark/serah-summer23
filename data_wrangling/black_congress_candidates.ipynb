{
 "cells": [
  {
   "cell_type": "markdown",
   "id": "e61a4722",
   "metadata": {},
   "source": [
    "# Black Congress Candidates Data\n",
    "`black_congress_candidates.csv` is a .csv file of manually collected Black candidates that ran in the general House elections in 2020, along with five Black Senate candidates collected from Matt Tokeshi. Contains the candidate's party, district, as well as % votes won.\n",
    "\n",
    "This notebook modifies `black_congress_candidates.csv` such that it can be easily joined to other datasets - `black_congress_candidates_modified.csv` also has columns `state` and `last_name`."
   ]
  },
  {
   "cell_type": "code",
   "execution_count": 27,
   "id": "6ff3759c",
   "metadata": {},
   "outputs": [],
   "source": [
    "import pandas as pd"
   ]
  },
  {
   "cell_type": "code",
   "execution_count": 28,
   "id": "cfcfd726",
   "metadata": {},
   "outputs": [],
   "source": [
    "black_candidates = pd.read_csv('black_congress_candidates.csv')\n",
    "house = pd.read_csv('house_candidate.csv')\n",
    "pd.set_option('display.max_rows', None)"
   ]
  },
  {
   "cell_type": "code",
   "execution_count": 29,
   "id": "914f158e",
   "metadata": {},
   "outputs": [],
   "source": [
    "def get_state(position):\n",
    "    split_state = position.strip().split(\" \")\n",
    "    if split_state[-1].isnumeric() or split_state[-1] == 'Senate':\n",
    "        return \" \".join(split_state[:-1])\n",
    "    return \" \".join(split_state)\n",
    "\n",
    "def get_last_name(name):\n",
    "    name = name.strip().split(\" \")\n",
    "    return name[-1]"
   ]
  },
  {
   "cell_type": "code",
   "execution_count": 30,
   "id": "d7144afc",
   "metadata": {},
   "outputs": [],
   "source": [
    "black_candidates['state'] = black_candidates['office_sought'].apply(get_state)\n",
    "black_candidates['last_name'] = black_candidates['candidate_name'].apply(get_last_name)"
   ]
  },
  {
   "cell_type": "code",
   "execution_count": 31,
   "id": "892ba9b0",
   "metadata": {},
   "outputs": [],
   "source": [
    "black_candidates.to_csv('black_congress_candidates_modified.csv')"
   ]
  }
 ],
 "metadata": {
  "kernelspec": {
   "display_name": "Python 3 (ipykernel)",
   "language": "python",
   "name": "python3"
  },
  "language_info": {
   "codemirror_mode": {
    "name": "ipython",
    "version": 3
   },
   "file_extension": ".py",
   "mimetype": "text/x-python",
   "name": "python",
   "nbconvert_exporter": "python",
   "pygments_lexer": "ipython3",
   "version": "3.10.9"
  }
 },
 "nbformat": 4,
 "nbformat_minor": 5
}
