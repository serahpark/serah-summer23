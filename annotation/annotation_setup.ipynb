{
 "cells": [
  {
   "cell_type": "markdown",
   "id": "8102547c",
   "metadata": {},
   "source": [
    "# Annotation Setup\n",
    "Generates sample of 100 emails containing `crime`. Creates initial spreadsheets for each annotators; assigned each annotator different subsets of the sample so we can calculate multiple inter-annotator agreement metrics, so each pair had 25 emails of overlap. Also generates 10 random emails not included in the 100-email sample as a 'practice round'"
   ]
  },
  {
   "cell_type": "code",
   "execution_count": 1,
   "id": "bcc9b924",
   "metadata": {},
   "outputs": [],
   "source": [
    "import pandas as pd"
   ]
  },
  {
   "cell_type": "code",
   "execution_count": 2,
   "id": "e7ec3924",
   "metadata": {},
   "outputs": [],
   "source": [
    "corpus = pd.read_csv('~/../data/princeton_emails/corpus_v1.0.csv', index_col=0, usecols=['body_text', 'uid_email']).reset_index()"
   ]
  },
  {
   "cell_type": "code",
   "execution_count": 3,
   "id": "2f21f86a",
   "metadata": {},
   "outputs": [
    {
     "data": {
      "text/html": [
       "<div>\n",
       "<style scoped>\n",
       "    .dataframe tbody tr th:only-of-type {\n",
       "        vertical-align: middle;\n",
       "    }\n",
       "\n",
       "    .dataframe tbody tr th {\n",
       "        vertical-align: top;\n",
       "    }\n",
       "\n",
       "    .dataframe thead th {\n",
       "        text-align: right;\n",
       "    }\n",
       "</style>\n",
       "<table border=\"1\" class=\"dataframe\">\n",
       "  <thead>\n",
       "    <tr style=\"text-align: right;\">\n",
       "      <th></th>\n",
       "      <th>body_text</th>\n",
       "      <th>uid_email</th>\n",
       "    </tr>\n",
       "  </thead>\n",
       "  <tbody>\n",
       "    <tr>\n",
       "      <th>0</th>\n",
       "      <td>Thanks for joining the team! My name is Kathle...</td>\n",
       "      <td>7182e4e604717330ecaf2699be61b200</td>\n",
       "    </tr>\n",
       "    <tr>\n",
       "      <th>1</th>\n",
       "      <td>We’re just 5 days away from our June 30th FEC ...</td>\n",
       "      <td>00768081c0a2487180314475ed1121d1</td>\n",
       "    </tr>\n",
       "    <tr>\n",
       "      <th>2</th>\n",
       "      <td>Thanks for joining the team! My name is Kathle...</td>\n",
       "      <td>54f56022dcd037ccb583f65a5668a073</td>\n",
       "    </tr>\n",
       "    <tr>\n",
       "      <th>3</th>\n",
       "      <td>Today we remember and honor the legacy of Dr. ...</td>\n",
       "      <td>ff3fc8ba9b209b771a73ef831a4117b5</td>\n",
       "    </tr>\n",
       "    <tr>\n",
       "      <th>4</th>\n",
       "      <td>Here’s the truth,summer is the most difficult ...</td>\n",
       "      <td>36e237928f238bf5fab8d5a5462d9a04</td>\n",
       "    </tr>\n",
       "    <tr>\n",
       "      <th>5</th>\n",
       "      <td>This has been a whirlwind of a year for Kathle...</td>\n",
       "      <td>a7536957771135b29d8bc52057c7a461</td>\n",
       "    </tr>\n",
       "    <tr>\n",
       "      <th>6</th>\n",
       "      <td>Friends, we’re not on track to meet our end-of...</td>\n",
       "      <td>94a9d5119f4bde190b07e0d43efed0b6</td>\n",
       "    </tr>\n",
       "    <tr>\n",
       "      <th>7</th>\n",
       "      <td>Yesterday, we launched a brand new ad -- focus...</td>\n",
       "      <td>907edec244529241380876b5ec3ab49f</td>\n",
       "    </tr>\n",
       "    <tr>\n",
       "      <th>8</th>\n",
       "      <td>We’re the closest we’ve ever been to reaching ...</td>\n",
       "      <td>81046454397b4299893ff7f66049ff94</td>\n",
       "    </tr>\n",
       "    <tr>\n",
       "      <th>9</th>\n",
       "      <td>The hours we have left to reach every voter be...</td>\n",
       "      <td>52d40b84bfd96f8386c3b70fd387d143</td>\n",
       "    </tr>\n",
       "  </tbody>\n",
       "</table>\n",
       "</div>"
      ],
      "text/plain": [
       "                                           body_text  \\\n",
       "0  Thanks for joining the team! My name is Kathle...   \n",
       "1  We’re just 5 days away from our June 30th FEC ...   \n",
       "2  Thanks for joining the team! My name is Kathle...   \n",
       "3  Today we remember and honor the legacy of Dr. ...   \n",
       "4  Here’s the truth,summer is the most difficult ...   \n",
       "5  This has been a whirlwind of a year for Kathle...   \n",
       "6  Friends, we’re not on track to meet our end-of...   \n",
       "7  Yesterday, we launched a brand new ad -- focus...   \n",
       "8  We’re the closest we’ve ever been to reaching ...   \n",
       "9  The hours we have left to reach every voter be...   \n",
       "\n",
       "                          uid_email  \n",
       "0  7182e4e604717330ecaf2699be61b200  \n",
       "1  00768081c0a2487180314475ed1121d1  \n",
       "2  54f56022dcd037ccb583f65a5668a073  \n",
       "3  ff3fc8ba9b209b771a73ef831a4117b5  \n",
       "4  36e237928f238bf5fab8d5a5462d9a04  \n",
       "5  a7536957771135b29d8bc52057c7a461  \n",
       "6  94a9d5119f4bde190b07e0d43efed0b6  \n",
       "7  907edec244529241380876b5ec3ab49f  \n",
       "8  81046454397b4299893ff7f66049ff94  \n",
       "9  52d40b84bfd96f8386c3b70fd387d143  "
      ]
     },
     "execution_count": 3,
     "metadata": {},
     "output_type": "execute_result"
    }
   ],
   "source": [
    "corpus.head(10)"
   ]
  },
  {
   "cell_type": "code",
   "execution_count": 4,
   "id": "6a974674",
   "metadata": {},
   "outputs": [],
   "source": [
    "keyword = \"crime\"\n",
    "keyword_emails = []\n",
    "\n",
    "for index, row in corpus.iterrows():\n",
    "    if keyword in str(row['body_text']):\n",
    "        keyword_emails.append(row)"
   ]
  },
  {
   "cell_type": "code",
   "execution_count": 5,
   "id": "fc87da30",
   "metadata": {},
   "outputs": [],
   "source": [
    "full_subset = pd.concat(keyword_emails, axis=1).T\n",
    "labeling_set = full_subset.sample(100, ignore_index=True)\n",
    "labeling_set.to_csv('email_labeling/labeling_set.csv')\n",
    "\n",
    "chosen_ids = labeling_set['uid_email'].to_list()\n",
    "remaining_subset = full_subset.loc[~full_subset['uid_email'].isin(chosen_ids)]\n",
    "practice_set = remaining_subset.sample(10, ignore_index=True)"
   ]
  },
  {
   "cell_type": "code",
   "execution_count": 6,
   "id": "d2cb460c",
   "metadata": {},
   "outputs": [],
   "source": [
    "labeling_set['annotator1'] = pd.Series(['Mark'] * 50 + ['Katie'] * 50)\n",
    "labeling_set['annotator2'] = pd.Series(['Matt'] * 25 + ['Serah'] * 50 + ['Matt'] * 25)"
   ]
  },
  {
   "cell_type": "code",
   "execution_count": 7,
   "id": "45bcde0f",
   "metadata": {},
   "outputs": [],
   "source": [
    "mark = labeling_set.loc[labeling_set['annotator1'] == 'Mark']\n",
    "katie = labeling_set.loc[labeling_set['annotator1'] == 'Katie']\n",
    "matt = labeling_set.loc[labeling_set['annotator2'] == 'Matt']\n",
    "serah = labeling_set.loc[labeling_set['annotator2'] == 'Serah']"
   ]
  },
  {
   "cell_type": "code",
   "execution_count": 8,
   "id": "5333dce7",
   "metadata": {
    "scrolled": true
   },
   "outputs": [],
   "source": [
    "mark = mark.drop(columns=['annotator1', 'annotator2'])\n",
    "mark['A'] = \"\"\n",
    "mark['B'] = \"\"\n",
    "mark['C'] = \"\"\n",
    "mark['notes'] = \"\"\n",
    "mark.to_csv('email_labeling/mark.csv')"
   ]
  },
  {
   "cell_type": "code",
   "execution_count": 9,
   "id": "472eb0d8",
   "metadata": {
    "scrolled": true
   },
   "outputs": [],
   "source": [
    "serah = serah.drop(columns=['annotator1', 'annotator2'])\n",
    "serah['A'] = \"\"\n",
    "serah['B'] = \"\"\n",
    "serah['C'] = \"\"\n",
    "serah['notes'] = \"\"\n",
    "serah.to_csv('email_labeling/serah.csv')"
   ]
  },
  {
   "cell_type": "code",
   "execution_count": 10,
   "id": "b135e66e",
   "metadata": {},
   "outputs": [],
   "source": [
    "matt = matt.drop(columns=['annotator1', 'annotator2'])\n",
    "matt['A'] = \"\"\n",
    "matt['B'] = \"\"\n",
    "matt['C'] = \"\"\n",
    "matt['notes'] = \"\"\n",
    "matt.to_csv('email_labeling/matt.csv')"
   ]
  },
  {
   "cell_type": "code",
   "execution_count": 11,
   "id": "8a650599",
   "metadata": {},
   "outputs": [],
   "source": [
    "katie = katie.drop(columns=['annotator1', 'annotator2'])\n",
    "katie['A'] = \"\"\n",
    "katie['B'] = \"\"\n",
    "katie['C'] = \"\"\n",
    "katie['notes'] = \"\"\n",
    "katie.to_csv('email_labeling/katie.csv')"
   ]
  },
  {
   "cell_type": "code",
   "execution_count": 12,
   "id": "83286ca6",
   "metadata": {},
   "outputs": [],
   "source": [
    "practice_set['A'] = \"\"\n",
    "practice_set['B'] = \"\"\n",
    "practice_set['C'] = \"\"\n",
    "practice_set['notes'] = \"\"\n",
    "practice_set.to_csv('email_labeling/practice_set.csv')"
   ]
  }
 ],
 "metadata": {
  "kernelspec": {
   "display_name": "Python 3 (ipykernel)",
   "language": "python",
   "name": "python3"
  },
  "language_info": {
   "codemirror_mode": {
    "name": "ipython",
    "version": 3
   },
   "file_extension": ".py",
   "mimetype": "text/x-python",
   "name": "python",
   "nbconvert_exporter": "python",
   "pygments_lexer": "ipython3",
   "version": "3.10.9"
  }
 },
 "nbformat": 4,
 "nbformat_minor": 5
}
