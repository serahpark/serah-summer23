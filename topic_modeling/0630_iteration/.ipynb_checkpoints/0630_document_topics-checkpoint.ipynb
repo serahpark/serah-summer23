{
 "cells": [
  {
   "cell_type": "code",
   "execution_count": 1,
   "id": "4fe14614",
   "metadata": {},
   "outputs": [],
   "source": [
    "import pandas as pd\n",
    "from gensim.test.utils import datapath\n",
    "from gensim.models import LdaModel\n",
    "import gensim.corpora as corpora\n",
    "import pickle"
   ]
  },
  {
   "cell_type": "code",
   "execution_count": 2,
   "id": "23a0a77c",
   "metadata": {},
   "outputs": [
    {
     "name": "stdout",
     "output_type": "stream",
     "text": [
      "loaded LDA model, corpus, and dictionary\n"
     ]
    }
   ],
   "source": [
    "# load corpus and dictionary\n",
    "saved_model = datapath(\"0630_model\")\n",
    "model = LdaModel.load(saved_model)\n",
    "with open(\"../pickle/0630_corpus\", \"rb\") as c:\n",
    "    corpus = pickle.load(c)\n",
    "with open(\"../pickle/0630_dictionary\", \"rb\") as d:\n",
    "    dictionary = pickle.load(d)   \n",
    "\n",
    "# read corpus to include the email ID\n",
    "with open(\"../pickle/0630_df\", \"rb\") as f:\n",
    "    df = pickle.load(f)"
   ]
  },
  {
   "cell_type": "code",
   "execution_count": 3,
   "id": "d54ea07f",
   "metadata": {},
   "outputs": [],
   "source": [
    "docs = {0: [('d8af77c424fcd4a82d91a72f19e24b8e', 0.95902914), ('d9547a19065bc2fae016bf1db7ec4b86', 0.9337884), ('2d0f4aae31b4da948e4cc1897fa8cd91', 0.91648203), ('5987cf2aef495750fdcf2bdbb5d8750f', 0.9150272), ('0e776a3005e79fad6df635f147b350a1', 0.9149797), ('4e805defccda64003a450cb70e4c071e', 0.9142165), ('6dd0b6c5925b379e7e91189f9259fa2f', 0.91238487), ('a66c18174cbae8c3f6c068275a691500', 0.9041698), ('cba1d0a7badc01c40919a077c53b648b', 0.9012823), ('0f34873435e7355278a0e97e083beaa1', 0.89917725)], 23: [('fa988f4dee78233d6ab4ab71af6b2a30', 0.92300963), ('c4f70938e7f6f8b2a34f86b4bb878697', 0.91859365), ('e01abf92c1d6823dddee7cb529adf1e1', 0.91859365), ('afced6165ad96307a544c3a43bf97b0a', 0.91363996), ('4d839be8ba7906ba0a08fa81069a77a0', 0.91363996), ('b6551101b4b8f6fa077c58d348a0fa58', 0.9136399), ('7ef5f9289649a0805e4e085e144195f7', 0.8608926), ('6223e9b8d5c0f7d9a6dcc6a282bd4b05', 0.8608742), ('46f9c872a2cb9e195ffdaf7d214f65b6', 0.85148674), ('52736f99147ec3034b91715ac3003d0b', 0.8052)], 51: [('a8ada07fe355fde49f3329aa396cd8f7', 0.9884009), ('7b323da6ea60aeab61c5e65c357c5684', 0.9884009), ('2b7e43dfb0587a3f481f75d15b1b0691', 0.9884009), ('a7da83746bd451893f159cf1276e9de4', 0.9884009), ('daa3a115a9818dc11b8e3ccab1438bdd', 0.9884009), ('1b770b44ded17be54cc0ea0def8051ca', 0.9884009), ('28399794f6d013729d144d61c6c0e611', 0.9884009), ('967427462899bddd0577784aaab94a63', 0.9884009), ('5a5c62ffde739495926ed52916baf548', 0.9884009), ('1cbc5567980e20b6e7b4e2710342b257', 0.9884009)], 65: [('203bf7fd977f05f3fb57635bd4652c5d', 0.90634805), ('beaca8307c81c4d9eb28df4907975bba', 0.8675868), ('5adb8b08acfd5a3c7e8eca1afe5de82e', 0.8621411), ('abb0269d88053b495ea6ab54b926f8a8', 0.8620969), ('9d26915d24031d20f00f0bf056825885', 0.8620158), ('ab7b0e0781b7de8eabba1ff72cc277b2', 0.8619882), ('44eebb6d53ad6620a745118b29de1bf2', 0.8619862), ('4fc451a427d47cfadbf4f49b7edac6a6', 0.8619683), ('8accb11d35be5b5b141c4576b5cc9ff3', 0.8619321), ('77d39475584be00e251f4f3956c1c82d', 0.8619245)], 70: [('f073110c57a3fdab10f720f4440c7195', 0.97796345), ('2b9f18d98299cd3383290dac4a1f02ab', 0.97796345), ('6040702f65167b3481a5a7e4e9314568', 0.97796345), ('c74716b3690c8ea4a5c1a14a81b33c9d', 0.97796345), ('7af36c253c66cc7e91c1f83cb8fbf410', 0.97796345), ('b0fc436af3bd3613eb6c8e311c62955c', 0.97796345), ('147e49825d0cd5beb48e552148560982', 0.97796345), ('fafa524fefe038b2590712639cf8e588', 0.97796345), ('34c53e76f97e00336fb18f1c77d5e285', 0.97796345), ('9c2b155e6a58f6e8310f7fe12cf4b60d', 0.97796345)]}"
   ]
  },
  {
   "cell_type": "code",
   "execution_count": 4,
   "id": "5c158d1d",
   "metadata": {},
   "outputs": [
    {
     "name": "stdout",
     "output_type": "stream",
     "text": [
      "['d8af77c424fcd4a82d91a72f19e24b8e', 'd9547a19065bc2fae016bf1db7ec4b86', '2d0f4aae31b4da948e4cc1897fa8cd91', '5987cf2aef495750fdcf2bdbb5d8750f', '0e776a3005e79fad6df635f147b350a1', '4e805defccda64003a450cb70e4c071e', '6dd0b6c5925b379e7e91189f9259fa2f', 'a66c18174cbae8c3f6c068275a691500', 'cba1d0a7badc01c40919a077c53b648b', '0f34873435e7355278a0e97e083beaa1']\n"
     ]
    }
   ],
   "source": [
    "#keys: 0, 23, 51, 65, 70\n",
    "key = 0\n",
    "ids = []\n",
    "for email in docs[key]:\n",
    "    ids.append(email[0])\n",
    "ids = ids[:10]\n",
    "print(ids)"
   ]
  },
  {
   "cell_type": "code",
   "execution_count": 5,
   "id": "9119b63d",
   "metadata": {
    "scrolled": true
   },
   "outputs": [
    {
     "data": {
      "text/html": [
       "<div>\n",
       "<style scoped>\n",
       "    .dataframe tbody tr th:only-of-type {\n",
       "        vertical-align: middle;\n",
       "    }\n",
       "\n",
       "    .dataframe tbody tr th {\n",
       "        vertical-align: top;\n",
       "    }\n",
       "\n",
       "    .dataframe thead th {\n",
       "        text-align: right;\n",
       "    }\n",
       "</style>\n",
       "<table border=\"1\" class=\"dataframe\">\n",
       "  <thead>\n",
       "    <tr style=\"text-align: right;\">\n",
       "      <th></th>\n",
       "      <th>from_name</th>\n",
       "      <th>from_address</th>\n",
       "      <th>subject</th>\n",
       "      <th>body_text</th>\n",
       "      <th>uid_email</th>\n",
       "    </tr>\n",
       "  </thead>\n",
       "  <tbody>\n",
       "    <tr>\n",
       "      <th>47302</th>\n",
       "      <td>Team Parson</td>\n",
       "      <td>info@mikeparson.com</td>\n",
       "      <td>DAILY UPDATE: Governor Parson and Administrati...</td>\n",
       "      <td>Image\\nDAILY UPDATE: Governor Parson and Admin...</td>\n",
       "      <td>4e805defccda64003a450cb70e4c071e</td>\n",
       "    </tr>\n",
       "    <tr>\n",
       "      <th>47336</th>\n",
       "      <td>Team Parson</td>\n",
       "      <td>info@mikeparson.com</td>\n",
       "      <td>DAILY UPDATE: Governor Parson Highlights Leade...</td>\n",
       "      <td>Image\\nDAILY UPDATE: Governor Parson Highlight...</td>\n",
       "      <td>0f34873435e7355278a0e97e083beaa1</td>\n",
       "    </tr>\n",
       "    <tr>\n",
       "      <th>47350</th>\n",
       "      <td>Team Parson</td>\n",
       "      <td>info@mikeparson.com</td>\n",
       "      <td>DAILY UPDATE: Missouri Department of Transport...</td>\n",
       "      <td>Image\\nDAILY UPDATE: Missouri Department of Tr...</td>\n",
       "      <td>a66c18174cbae8c3f6c068275a691500</td>\n",
       "    </tr>\n",
       "    <tr>\n",
       "      <th>54298</th>\n",
       "      <td>Big Dan Rodimer for Congress</td>\n",
       "      <td>bigdan@danrodimer.com</td>\n",
       "      <td>Dan Rodimer calls for schools to re-open</td>\n",
       "      <td>Our kids need to get back to school full-time\\...</td>\n",
       "      <td>d8af77c424fcd4a82d91a72f19e24b8e</td>\n",
       "    </tr>\n",
       "    <tr>\n",
       "      <th>91250</th>\n",
       "      <td>Holcomb Crew</td>\n",
       "      <td>communications@holcombforindiana.com</td>\n",
       "      <td>Coronavirus: Latest Indiana Updates</td>\n",
       "      <td>As we continue to learn more about the coronav...</td>\n",
       "      <td>6dd0b6c5925b379e7e91189f9259fa2f</td>\n",
       "    </tr>\n",
       "    <tr>\n",
       "      <th>91279</th>\n",
       "      <td>Holcomb Crew</td>\n",
       "      <td>communications@holcombforindiana.com</td>\n",
       "      <td>95 new testing sites</td>\n",
       "      <td>Yesterday, Governor Holcomb announced that by ...</td>\n",
       "      <td>0e776a3005e79fad6df635f147b350a1</td>\n",
       "    </tr>\n",
       "    <tr>\n",
       "      <th>124712</th>\n",
       "      <td>Rep. Brian Farnen</td>\n",
       "      <td>brian.farnen@housegop.ct.gov</td>\n",
       "      <td>COVID-19 State Update and Small Business Help</td>\n",
       "      <td>Dear Friends and Neighbors,\\nI hope you are we...</td>\n",
       "      <td>d9547a19065bc2fae016bf1db7ec4b86</td>\n",
       "    </tr>\n",
       "    <tr>\n",
       "      <th>125257</th>\n",
       "      <td>Rep. Greg Harris</td>\n",
       "      <td>greg@gregharris.org</td>\n",
       "      <td>Business/Professional COVID-19 Updates</td>\n",
       "      <td>Rep. Greg Harris • 13th District\\nDistrict Upd...</td>\n",
       "      <td>2d0f4aae31b4da948e4cc1897fa8cd91</td>\n",
       "    </tr>\n",
       "    <tr>\n",
       "      <th>125262</th>\n",
       "      <td>Rep. Greg Harris</td>\n",
       "      <td>greg@gregharris.org</td>\n",
       "      <td>Arts Funding, HIV Resource Hub, Paycheck Prote...</td>\n",
       "      <td>Rep. Greg Harris • 13th District\\nDistrict Upd...</td>\n",
       "      <td>5987cf2aef495750fdcf2bdbb5d8750f</td>\n",
       "    </tr>\n",
       "    <tr>\n",
       "      <th>125281</th>\n",
       "      <td>Rep. Greg Harris</td>\n",
       "      <td>greg@gregharris.org</td>\n",
       "      <td>Business Interruption Grants &amp; Community Support</td>\n",
       "      <td>Rep. Greg Harris • 13th District\\nDistrict Upd...</td>\n",
       "      <td>cba1d0a7badc01c40919a077c53b648b</td>\n",
       "    </tr>\n",
       "  </tbody>\n",
       "</table>\n",
       "</div>"
      ],
      "text/plain": [
       "                           from_name                          from_address  \\\n",
       "47302                    Team Parson                   info@mikeparson.com   \n",
       "47336                    Team Parson                   info@mikeparson.com   \n",
       "47350                    Team Parson                   info@mikeparson.com   \n",
       "54298   Big Dan Rodimer for Congress                 bigdan@danrodimer.com   \n",
       "91250                   Holcomb Crew  communications@holcombforindiana.com   \n",
       "91279                   Holcomb Crew  communications@holcombforindiana.com   \n",
       "124712             Rep. Brian Farnen          brian.farnen@housegop.ct.gov   \n",
       "125257              Rep. Greg Harris                   greg@gregharris.org   \n",
       "125262              Rep. Greg Harris                   greg@gregharris.org   \n",
       "125281              Rep. Greg Harris                   greg@gregharris.org   \n",
       "\n",
       "                                                  subject  \\\n",
       "47302   DAILY UPDATE: Governor Parson and Administrati...   \n",
       "47336   DAILY UPDATE: Governor Parson Highlights Leade...   \n",
       "47350   DAILY UPDATE: Missouri Department of Transport...   \n",
       "54298            Dan Rodimer calls for schools to re-open   \n",
       "91250                 Coronavirus: Latest Indiana Updates   \n",
       "91279                                95 new testing sites   \n",
       "124712      COVID-19 State Update and Small Business Help   \n",
       "125257             Business/Professional COVID-19 Updates   \n",
       "125262  Arts Funding, HIV Resource Hub, Paycheck Prote...   \n",
       "125281   Business Interruption Grants & Community Support   \n",
       "\n",
       "                                                body_text  \\\n",
       "47302   Image\\nDAILY UPDATE: Governor Parson and Admin...   \n",
       "47336   Image\\nDAILY UPDATE: Governor Parson Highlight...   \n",
       "47350   Image\\nDAILY UPDATE: Missouri Department of Tr...   \n",
       "54298   Our kids need to get back to school full-time\\...   \n",
       "91250   As we continue to learn more about the coronav...   \n",
       "91279   Yesterday, Governor Holcomb announced that by ...   \n",
       "124712  Dear Friends and Neighbors,\\nI hope you are we...   \n",
       "125257  Rep. Greg Harris • 13th District\\nDistrict Upd...   \n",
       "125262  Rep. Greg Harris • 13th District\\nDistrict Upd...   \n",
       "125281  Rep. Greg Harris • 13th District\\nDistrict Upd...   \n",
       "\n",
       "                               uid_email  \n",
       "47302   4e805defccda64003a450cb70e4c071e  \n",
       "47336   0f34873435e7355278a0e97e083beaa1  \n",
       "47350   a66c18174cbae8c3f6c068275a691500  \n",
       "54298   d8af77c424fcd4a82d91a72f19e24b8e  \n",
       "91250   6dd0b6c5925b379e7e91189f9259fa2f  \n",
       "91279   0e776a3005e79fad6df635f147b350a1  \n",
       "124712  d9547a19065bc2fae016bf1db7ec4b86  \n",
       "125257  2d0f4aae31b4da948e4cc1897fa8cd91  \n",
       "125262  5987cf2aef495750fdcf2bdbb5d8750f  \n",
       "125281  cba1d0a7badc01c40919a077c53b648b  "
      ]
     },
     "execution_count": 5,
     "metadata": {},
     "output_type": "execute_result"
    }
   ],
   "source": [
    "emails = df.loc[df['uid_email'].isin(ids)]\n",
    "# emails = df.loc[df['uid_email'] == 'f534f8d5fa2abb0839dbdf52e6dd38e3']\n",
    "emails"
   ]
  },
  {
   "cell_type": "code",
   "execution_count": 6,
   "id": "60c344d9",
   "metadata": {
    "scrolled": false
   },
   "outputs": [
    {
     "name": "stdout",
     "output_type": "stream",
     "text": [
      "Enough is enough. We knew that Matt Rosendale and his allies weren’t afraid to play in the mud, but\n",
      "Kathleen Williams for Congress\n",
      "Enough is enough.\n",
      "We knew that Matt Rosendale and his allies weren’t afraid to play in the mud, but now he’s depending on his Super PAC backers to do his dirty work.\n",
      "We need your help to respond to this NOW! Will you donate $20 to fight back against the constant, and false, Super PAC attack ads against Kathleen running across Montana?\n",
      "If you've saved your payment information with ActBlue Express, your donation will go through immediately:\n",
      "$10 $25 $50\n",
      "$100 $250 Other\n",
      "Americans for Prosperity just released an ad lying about Kathleen’s record and attacking her efforts to lower taxes for the middle class (not Matt's 1% funders) and fight for real healthcare coverage, not junk insurance plans -- you know, the ones that Matt Rosendale is happy to peddle to struggling families that don’t even cover pre-existing conditions or COVID treatment.\n",
      "And who’re Americans for Prosperity? A Koch Super PAC determined to turn Montana into the D.C. Swamp.\n",
      "We need our top supporters to help respond to this newest attack on Kathleen ASAP. Will you help bring in 500 new donations so we can have the resources we need to set, and keep, the record straight?\n",
      "Thank you,\n",
      "Jeff Allen\n",
      "Campaign Manager\n",
      "Kathleen Williams is a fighter for Montana. She is running for Congress to fix our broken health care system, foster opportunity for all Montanans and protect Montana's outdoor heritage.\n",
      "CONTRIBUTE WEEKLY\n",
      "To donate via mail, please send a contribution to PO BOX 548 BOZEMAN, MT 59771\n",
      "Make sure you have a plan and be sure to vote early! Check your voter registration and key voting dates here.\n",
      "Paid for by Kathleen Williams for Montana.\n",
      "This email was sent to [[EMAIL_REDACTED]]. Don't want to receive these emails anymore? Unsubscribe\n",
      "Kathleen Williams, P.O. Box 548 Bozeman, MT 59771\n"
     ]
    }
   ],
   "source": [
    "print(df.loc[257, \"body_text\"])"
   ]
  },
  {
   "cell_type": "code",
   "execution_count": 7,
   "id": "cfe7db3d",
   "metadata": {},
   "outputs": [
    {
     "data": {
      "text/plain": [
       "[(1, 0.051082406), (75, 0.8582237)]"
      ]
     },
     "execution_count": 7,
     "metadata": {},
     "output_type": "execute_result"
    }
   ],
   "source": [
    "model.get_document_topics(corpus[69064], minimum_probability = 0.05)\n"
   ]
  },
  {
   "cell_type": "code",
   "execution_count": null,
   "id": "a129d2e3",
   "metadata": {},
   "outputs": [],
   "source": []
  }
 ],
 "metadata": {
  "kernelspec": {
   "display_name": "Python 3 (ipykernel)",
   "language": "python",
   "name": "python3"
  },
  "language_info": {
   "codemirror_mode": {
    "name": "ipython",
    "version": 3
   },
   "file_extension": ".py",
   "mimetype": "text/x-python",
   "name": "python",
   "nbconvert_exporter": "python",
   "pygments_lexer": "ipython3",
   "version": "3.10.9"
  }
 },
 "nbformat": 4,
 "nbformat_minor": 5
}
