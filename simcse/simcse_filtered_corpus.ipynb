{
 "cells": [
  {
   "cell_type": "markdown",
   "id": "ac00c921",
   "metadata": {},
   "source": [
    "# SimCSE"
   ]
  },
  {
   "cell_type": "markdown",
   "id": "b4ae09b5",
   "metadata": {},
   "source": [
    "SimCSE takes sentences of a corpus and embeds them as a vector. We can find sentences that are similar to a specific sentence that we provide as a seed at varying thresholds of alignment.\n",
    "\n",
    "The corpus that these sentences are coming from is a filtered version of the original corpus of emails, in which we filter out all PACs and organizations and only keep emails from candidates. We also remove any duplicate emails sent by the same sender (as the author used different inboxes to sign up for the same mailing list for the purpose of A/B testing)."
   ]
  },
  {
   "cell_type": "code",
   "execution_count": 1,
   "id": "07faaf8a",
   "metadata": {},
   "outputs": [
    {
     "name": "stderr",
     "output_type": "stream",
     "text": [
      "07/19/2023 13:04:13 - INFO - torch.distributed.nn.jit.instantiator -   Created a temporary directory at /tmp/tmplg4vfwlw\n",
      "07/19/2023 13:04:13 - INFO - torch.distributed.nn.jit.instantiator -   Writing /tmp/tmplg4vfwlw/_remote_module_non_scriptable.py\n",
      "07/19/2023 13:04:15 - INFO - faiss.loader -   Loading faiss with AVX2 support.\n",
      "07/19/2023 13:04:15 - INFO - faiss.loader -   Could not load library with AVX2 support due to:\n",
      "ModuleNotFoundError(\"No module named 'faiss.swigfaiss_avx2'\")\n",
      "07/19/2023 13:04:15 - INFO - faiss.loader -   Loading faiss.\n",
      "07/19/2023 13:04:15 - INFO - faiss.loader -   Successfully loaded faiss.\n",
      "07/19/2023 13:04:15 - INFO - simcse.tool -   Encoding embeddings for sentences...\n",
      "100%|█████████████████████████████████████████████████████████████████| 1894/1894 [09:41<00:00,  3.26it/s]\n",
      "07/19/2023 13:13:58 - INFO - simcse.tool -   Building index...\n",
      "07/19/2023 13:13:58 - INFO - simcse.tool -   Use GPU-version faiss\n",
      "07/19/2023 13:14:00 - INFO - simcse.tool -   Finished\n"
     ]
    }
   ],
   "source": [
    "from simcse import SimCSE\n",
    "from encode import *"
   ]
  },
  {
   "cell_type": "markdown",
   "id": "dd03f118",
   "metadata": {},
   "source": [
    "For instance, we can use the sentence \"I think we should defund the police.\" to get a list of emails in our corpus that contain similar content."
   ]
  },
  {
   "cell_type": "code",
   "execution_count": 2,
   "id": "4519958a",
   "metadata": {},
   "outputs": [
    {
     "name": "stderr",
     "output_type": "stream",
     "text": [
      "100%|███████████████████████████████████████████████████████████████████████| 1/1 [00:00<00:00, 46.44it/s]\n"
     ]
    },
    {
     "data": {
      "text/plain": [
       "{('101591',\n",
       "  '25802',\n",
       "  '48667',\n",
       "  '53934',\n",
       "  '81467',\n",
       "  '85046',\n",
       "  '86702',\n",
       "  '87410',\n",
       "  '89405',\n",
       "  '98428')}"
      ]
     },
     "execution_count": 2,
     "metadata": {},
     "output_type": "execute_result"
    }
   ],
   "source": [
    "very_similar(['We need to defund the police.'], 0.6)"
   ]
  },
  {
   "cell_type": "markdown",
   "id": "76cfdf2a",
   "metadata": {},
   "source": [
    "Looking at the content of these emails:"
   ]
  },
  {
   "cell_type": "code",
   "execution_count": 3,
   "id": "fec756c7",
   "metadata": {
    "scrolled": true
   },
   "outputs": [
    {
     "name": "stdout",
     "output_type": "stream",
     "text": [
      "Alex,\n",
      "Yesterday we learned that the other three former Minneapolis police officers responsible for George Floyd’s murder have finally been charged. And charges for the former officer who pressed his knee into George Floyd's neck for nearly nine minutes was charged with a more serious count of second-degree murder.\n",
      "These are good steps but not nearly enough. Let’s talk about what needs to happen next.\n",
      "We need action. We need healing.\n",
      "Laws need to change. We need hate crimes legislation. We need to repeal stand your ground and citizen arrest laws that continue to be used and abused by racists. We need to rid ourselves of mandatory minimums and vague categorizations that define gangs. We need to decriminalize marijuana.\n",
      "We need to require more police training and mental health examinations. And the training and examinations need to happen not just at the beginning of a police career, but periodically throughout.\n",
      "Image\n",
      "More than any of this, we need consequences for police brutality.\n",
      "Police officers who are suspected of brutality must undergo swift and thorough investigation and if found in the wrong, the officers should be terminated. This information should be shared across jurisdictions so we don’t have a revolving door of bad cops coming back on the street.\n",
      "We need compensation for victims of police brutality and their families. And this compensation needs to happen separate and apart from justice in a courtroom.\n",
      "All this still doesn’t feel like enough. But these are things that need to happen and can be accomplished.\n",
      "There will be more.\n",
      "More important than my thoughts, I want to hear from you what you think we should do. But I’ll be honest, if your suggestion is we let the system play out or work within the laws we have, I’ll delete that suggestion.\n",
      "We’ve tried that and it isn’t working.\n",
      "And before anyone tells me we shouldn’t let the pendulum swing too far the other way, let me say this: I don’t mind an overcorrection.\n",
      "We cannot continue as we are today. Now is the moment to make big changes.\n",
      "STACEY EVANS\n",
      "For House District 57\n",
      "Facebook YouTube YouTube Website\n",
      "DONATE NOW\n",
      "© 2020 Friends of Stacey Evans\n",
      "Friends of Stacey Evans\n",
      "Friends of Stacey Evans\n",
      "750 Piedmont Ave\n",
      "Atlanta GA 30308 United States\n",
      "To unsubscribe please, click here: unsubscribe.\n",
      "This message was intended for: [[EMAIL_REDACTED]]#101591\n"
     ]
    }
   ],
   "source": [
    "print(all_texts[101591])"
   ]
  },
  {
   "cell_type": "markdown",
   "id": "a1c9149d",
   "metadata": {},
   "source": [
    "We also get emails that are related but share the opposing viewpoint:"
   ]
  },
  {
   "cell_type": "code",
   "execution_count": 4,
   "id": "d8f9e592",
   "metadata": {
    "scrolled": true
   },
   "outputs": [
    {
     "name": "stdout",
     "output_type": "stream",
     "text": [
      "They Need Our Help...\n",
      "Dear Friend,\n",
      "Can you believe what is happening to OUR country?\n",
      "Politicians are almost literally throwing law enforcement under a bus!\n",
      "In case you missed it...\n",
      "* Minneapolis City Government - after a push to \"Defund the Police\" recommends giving up to a carjacker, relinquishing your phone/wallet/purse, and don't fight back. ([[URL REDACTED]])\n",
      "* Seattle City Council proposes layoff of 100 officers and a 50% defunding of Police Department. ([[URL REDACTED]])\n",
      "* Portland City Council defunds Police Bureau by $15M and eliminates 84 cops (KGW8, Portland)\n",
      "Are you ready to help STOP this ridiculous and dangerous effort?\n",
      "Will you stand up to fight for those REALLY fighting for us?\n",
      "Do these actions across our country affect you? Keep reading...\n",
      "Learn More\n",
      "When the Governor of Nevada calls a Special Session of the State Legislature, HE decides what they get to legislate. He just did.\n",
      "Care to guess what he decided was Directive #1?\n",
      "Lest we forget, our multi-billion dollar economy is destroyed. We have the highest unemployment in the nation. The unemployment office is a disaster, and people's lives are financially devastated. Children are not going back to school. And, with help from the Supreme Court, he's forbid you from attending church.\n",
      "Even with all of that, Directive #1 - Throwing Police Under a Bus!\n",
      "We've talked with law enforcement officers, and they are quietly begging for elected officials to have their backs!\n",
      "Law Enforcement Loyalty PAC is stepping up to prevent the Governor and his liberal legislature from defunding and undermining our police force. The legislature is deliberating it RIGHT NOW! (SB2)\n",
      "Will you join us?\n",
      "DONATE TODAY\n",
      "Will you help us support leaders who will stand with law enforcement?\n",
      "Join me, Patriot!\n",
      "We have a moral obligation to help those helping us. Let's do it for the officer fighting for his life after getting shot in the head by a protester. Let's do it for the officers that might be permanently blind after being shot in the eyes with a laser. And let's do it for all those on duty RIGHT NOW.\n",
      "We NEED to get pro-law enforcement candidates elected. Please HELP.\n",
      "Sincerely,\n",
      "Maj. (Ret) Sam Peters\n",
      "Founder, Law Enforcement Loyalty PAC\n",
      "Former Candidate for Congress (NV4)\n",
      "Iraq/Afghanistan Veteran, Bronze Star Recipient\n",
      "P.S. In these trying times, I hate asking. But, as a former Law Enforcement Officer myself, I know the value of having the support of those I'm serving. Please let me count on you with a donation of $500, $250, $100, $50, $25 or any amount you feel compelled to give. The Thin Blue Line thanks you!\n",
      "Facebook    Twitter    Instagram\n",
      "Paid for by the Law Enforcement Loyalty PAC | PO Box 752555, Las Vegas, NV 89136\n",
      "Unsubscribe [[EMAIL_REDACTED]]\n",
      "Update Profile | Our Privacy Policy | About our Service Provider\n",
      "Sent by [[URL REDACTED]]#48667\n"
     ]
    }
   ],
   "source": [
    "print(all_texts[48667])"
   ]
  },
  {
   "cell_type": "markdown",
   "id": "f8e68211",
   "metadata": {},
   "source": [
    "We can use this tool to explore what politicians are saying about specific topics, such as crime:"
   ]
  },
  {
   "cell_type": "code",
   "execution_count": 5,
   "id": "a21afd97",
   "metadata": {},
   "outputs": [
    {
     "name": "stderr",
     "output_type": "stream",
     "text": [
      "100%|███████████████████████████████████████████████████████████████████████| 1/1 [00:00<00:00, 43.59it/s]\n"
     ]
    },
    {
     "data": {
      "text/plain": [
       "{('55367', '76288', '86702', '99348')}"
      ]
     },
     "execution_count": 5,
     "metadata": {},
     "output_type": "execute_result"
    }
   ],
   "source": [
    "very_similar(['We need to crack down on crime.'], 0.6)"
   ]
  },
  {
   "cell_type": "code",
   "execution_count": 13,
   "id": "f2049298",
   "metadata": {
    "scrolled": true
   },
   "outputs": [
    {
     "name": "stdout",
     "output_type": "stream",
     "text": [
      "View this email in your browser\n",
      "# Enough is enough!\n",
      "Across the country we’re seeing riots run rampant. Our country’s heritage is being vandalized and destroyed. Stores are being looted. The police are under attack. Crime is on the rise. Anarchy reigns and those on the left don’t want to address any of it.\n",
      "We need leaders who will stand up and say enough is enough! That’s why as a senator I plan to introduce legislation to make these acts of domestic terrorism a federal crime with a mandatory 10-year prison sentence. We need to get tough on these crimes and we need laws in place that show that we mean business when we say enough is enough.\n",
      "As a country we cannot sit idly by and let our heritage be destroyed, our police get attacked and anarchists who want to destroy capitalism riot daily. We need to make sure that those who seek to destroy us know that we won’t let them!\n",
      "Join me in saying ENOUGH IS ENOUGH!\n",
      "Dave\n",
      "P.S. – Please help me get my message out to all Kansans that enough is enough. Click on the logo below to find out how.\n",
      "Twitter\n",
      "Facebook\n",
      "Website\n",
      "Copyright © 2020 Lindstrom for Senate, All rights reserved.\n",
      "You are receiving this email because you we thought you'd like to know more about the campaign.\n",
      "Our mailing address is:\n",
      "Lindstrom for Senate\n",
      "1310A Westloop Pl # 353\n",
      "Manhattan, KS 66502-2842\n",
      "Add us to your address book\n",
      "Want to change how you receive these emails?\n",
      "You can update your preferences or unsubscribe from this list.#55367\n"
     ]
    }
   ],
   "source": [
    "print(all_texts[55367])"
   ]
  },
  {
   "cell_type": "code",
   "execution_count": 6,
   "id": "797ece01",
   "metadata": {
    "scrolled": true
   },
   "outputs": [
    {
     "name": "stderr",
     "output_type": "stream",
     "text": [
      "100%|███████████████████████████████████████████████████████████████████████| 1/1 [00:00<00:00, 50.77it/s]\n"
     ]
    },
    {
     "data": {
      "text/plain": [
       "{('19540',\n",
       "  '30938',\n",
       "  '37760',\n",
       "  '64558',\n",
       "  '64615',\n",
       "  '80090',\n",
       "  '80156',\n",
       "  '85890',\n",
       "  '87107',\n",
       "  '92001')}"
      ]
     },
     "execution_count": 6,
     "metadata": {},
     "output_type": "execute_result"
    }
   ],
   "source": [
    "very_similar(['Nancy Pelosi needs to be impeached from office'], 0.6)"
   ]
  },
  {
   "cell_type": "code",
   "execution_count": 14,
   "id": "844feba9",
   "metadata": {},
   "outputs": [
    {
     "name": "stdout",
     "output_type": "stream",
     "text": [
      "It's time to fire Nancy Pelosi.\n",
      "Pelosi Just Screwed Up Big Time\n",
      "Hello Alex,\n",
      "You probably know that I am running for Congress so that I can bring a real voice of the people back to Washington, DC. One of my main goals when I'm elected, however, is to get rid of Nancy Pelosi as Speaker of the House. Did you know that she is just 2 people away from being President of the United States? That's right: if anything happened to President Trump and VP Pence, we would all be saying \"President Pelosi.\"\n",
      "We can't let that happen, especially after she showed how little she respects the law when she went to the San Francisco salon and broke COVID lock down rules. Now that's what I call \"Pelosi privilege\".\n",
      "Luckily, our campaign is positioned perfectly to fire Pelosi as House Speaker once and for all (Top pollster Nate Silver named us the most flippable Democrat seat in the nation). I have the endorsement of President Trump and the support of the largest law enforcement alliance in the state but I really need your continued support to carry us through the finish line.\n",
      "Her biggest mistake was underestimating our movement!\n",
      "Can you help us STOP Pelosi's reign of terror, by donating $33 right now? That's one dollar for every year Nancy Pelosi has been in office. This will help us keep getting the work out that we need record numbers of GOP supporters to turn out this year.\n",
      "Chip In to STOP Pelosi\n",
      "Thank you so much for everything you have done for our movement up until this point and, as always,\n",
      "GOD BLESS YOU. GOD BLESS NEVADA. GOD BLESS AMERICA.\n",
      "Sincerely,\n",
      "Dan Rodimer\n",
      "Former WWE wrestler & Republican Nominee for US Congress\n",
      "Facebook    Twitter    Instagram\n",
      "Paid for by Rodimer for Congress\n",
      "Address: PO Box 750343\n",
      "Las Vegas, NV 89136 | [[URL REDACTED]]\n",
      "Rodimer for Congress | PO Box 750343, Las Vegas, NV 89136\n",
      "Unsubscribe [[EMAIL_REDACTED]]\n",
      "Update Profile | Our Privacy Policy | About our service provider\n",
      "Sent by [[URL REDACTED]]#30938\n"
     ]
    }
   ],
   "source": [
    "print(all_texts[30938])"
   ]
  },
  {
   "cell_type": "markdown",
   "id": "4abfbc26",
   "metadata": {},
   "source": [
    "## Politician-specific emails"
   ]
  },
  {
   "cell_type": "markdown",
   "id": "c26c4fa1",
   "metadata": {},
   "source": [
    "Looking at Maxine Waters, a Black Democrat from California who won by a margin of 71.7%, we see an explicit mention of crime, although her opponent, Joe Collins, is also a Black candidate."
   ]
  },
  {
   "cell_type": "code",
   "execution_count": 8,
   "id": "400ba7cc",
   "metadata": {},
   "outputs": [
    {
     "name": "stderr",
     "output_type": "stream",
     "text": [
      "100%|███████████████████████████████████████████████████████████████████████| 1/1 [00:00<00:00, 60.38it/s]\n"
     ]
    },
    {
     "data": {
      "text/plain": [
       "{('17165',\n",
       "  '58872',\n",
       "  '59521',\n",
       "  '59598',\n",
       "  '60500',\n",
       "  '61307',\n",
       "  '61946',\n",
       "  '62322',\n",
       "  '62995',\n",
       "  '72147')}"
      ]
     },
     "execution_count": 8,
     "metadata": {},
     "output_type": "execute_result"
    }
   ],
   "source": [
    "very_similar(['We cannot trust Maxine Waters to crack down on crime'], 0.4)"
   ]
  },
  {
   "cell_type": "code",
   "execution_count": 9,
   "id": "7cc5fa88",
   "metadata": {
    "scrolled": true
   },
   "outputs": [
    {
     "name": "stdout",
     "output_type": "stream",
     "text": [
      "Maxine Waters has \"represented\" Los Angeles for 44 years, but things are so bad here that even she refuses to live in our district. Joe Collins for Congress\n",
      "Alex,\n",
      "I'm Joe Collins, the Republican and Navy veteran running for Congress against Maxine Waters. You've probably seen my new ad \"Mansion Maxine\" on social media:\n",
      "Mansion Maxine\n",
      "Maxine Waters has \"represented\" Los Angeles for 44 years, but things are so bad here that even she refuses to live in our district.\n",
      "While Maxine sits in her out-of-district mansion, the rest of us have to live with the crime, violence, drugs, poverty and homelessness that her decades of failed radical policies have created.\n",
      "I'm running for Congress to undo the mess that Maxine Waters has created, and I need your help to defeat her in just a few weeks.\n",
      "Will you help me kick Maxine Waters out of Congress and fight for safe streets and a strong economy by chipping in $25, $50, $100 or more now?\n",
      "HELP JOE DEFEAT MAXINE »\n",
      "When I turned 18, I joined the U.S. Navy. During my service, I was deployed to a combat zone during Operation Iraqi Freedom.\n",
      "But while I was away serving my country and fighting in a war, Maxine Waters couldn't even be bothered to fight for our own community. So when I returned home from war, it was our district that looked like a war zone.\n",
      "Los Angeles deserves better! America deserves better!\n",
      "I need your help to hold Maxine Waters accountable for her failed soclialist policies, fix the mess she's created in our community, and ensure what has happened in Los Angeles doesn't happen to the rest of our country.\n",
      "With just weeks left until Election Day, will you chip in $25, $50, $100 or even more to help me defeat Maxine Waters and restore responsible leadership in Congress?\n",
      "HELP JOE DEFEAT MAXINE »\n",
      "Thank you!\n",
      "Joe Collins\n",
      "Joe Collins\n",
      "U.S. Navy Veteran\n",
      "Republican for Congress\n",
      "Joe Collins 2020 Joe Collins is a black conservative, Navy veteran, and Republican from South Central Los Angeles, and he is running to to defeat radical leftist Maxine Waters. To support Joe's campaign chip in $5 or more today!\n",
      "Joe Collins For Congress\n",
      "5777 W. Century Blvd\n",
      "STE#1110-143\n",
      "Los Angeles, CA\n",
      "90045\n",
      "Facebook Twitter Instagram\n",
      "[[URL REDACTED]]\n",
      "Joe Collins is a veteran of the United States Navy. Use of his military rank, job titles, and photographs in uniform does not imply endorsement by the Department of the Navy or the Department of Defense.\n",
      "Paid For By Joe Collins For Congress\n",
      "Don't want to receive any more of our emails: unsubscribe.#17165\n"
     ]
    }
   ],
   "source": [
    "print(all_texts[17165])"
   ]
  },
  {
   "cell_type": "code",
   "execution_count": 18,
   "id": "3b75a1b1",
   "metadata": {},
   "outputs": [
    {
     "name": "stderr",
     "output_type": "stream",
     "text": [
      "100%|███████████████████████████████████████████████████████████████████████| 1/1 [00:00<00:00, 48.38it/s]\n"
     ]
    },
    {
     "data": {
      "text/plain": [
       "{('21455', '64556', '97614')}"
      ]
     },
     "execution_count": 18,
     "metadata": {},
     "output_type": "execute_result"
    }
   ],
   "source": [
    "very_similar(['Hakeem Jeffries'], 0.4)"
   ]
  },
  {
   "cell_type": "code",
   "execution_count": 20,
   "id": "8be876b8",
   "metadata": {
    "scrolled": true
   },
   "outputs": [
    {
     "name": "stdout",
     "output_type": "stream",
     "text": [
      "Hello!  We just wanted to remind you that today in a couple hours, at 12pm CT (or 1pm ET), we will be having an exciting event where Sri and Chairman Hakeem Jeffries will be speaking about how they want to fight for their constituents when they're in D.C. together. We hope you can join for what will undoubtedly be an amazing fundraiser. You can RSVP here. Take care,  Team Sri  \\--------- On October 7, 2020, at 8:51 PM, Chairman Hakeem Jeffries wrote:  Alex,\n",
      "Ever since I heard about the race Sri Preston Kulkarni was running down in TX-22, I knew I needed to support his endeavor to become the first Indian American from Texas in Congress.\n",
      "Sri and I believe in fighting for our people- I look forward to working together with him in D.C. to reform our broken criminal justice system, ensure affordable healthcare, and make sure Texas and New York residents recover from this pandemic.\n",
      "Sri also believes that nobody should be left out of our Democratic process- that’s why he’s campaigning in 27 different languages- watch this video to learn more. This kind of representation is what we need to ensure no one is left out, and every voice is heard. Together, we will restore faith in our representative democracy and return reason and decency to Washington, DC.\n",
      "Join me on Friday, October 9th, at 12:00pm CT for a virtual fundraiser for Sri hosted by Harry Smith, Michael Harris, Derrick Reed, and Ricky Raven.\n",
      "RSVP HERE\n",
      "Looking forward to seeing you,\n",
      "Chairman Hakeem Jeffries\n",
      "Sri Preston Kulkarni is a lifelong public servant and national security expert who has spent his career overseas working to protect Americans here at home. Growing up in Houston, Sri personally experienced the same challenges that our communities are facing today. In Congress, he’ll fight to lower the cost of prescription drugs, stand up to the gun lobby, address climate change, and bring common-sense solutions to Washington.\n",
      "Help send Sri to Congress! ➜\n",
      "* * *\n",
      "Bringing true representation to TX-22. Learn more at [[URL REDACTED]]\n",
      "Paid for by Sri for Congress\n",
      "SRI FOR CONGRESS\n",
      "P.O. BOX 898\n",
      "SUGAR LAND, TX 77487-0898\n",
      "If you wish to no longer receive email from us, please unsubscribe.#97614\n"
     ]
    }
   ],
   "source": [
    "print(all_texts[97614])"
   ]
  },
  {
   "cell_type": "code",
   "execution_count": 27,
   "id": "84dc576a",
   "metadata": {},
   "outputs": [
    {
     "name": "stderr",
     "output_type": "stream",
     "text": [
      "100%|███████████████████████████████████████████████████████████████████████| 1/1 [00:00<00:00, 45.28it/s]\n"
     ]
    },
    {
     "data": {
      "text/plain": [
       "{('109658', '24994', '26438', '4077', '85737')}"
      ]
     },
     "execution_count": 27,
     "metadata": {},
     "output_type": "execute_result"
    }
   ],
   "source": [
    "very_similar(['law & order'], 0.4)"
   ]
  },
  {
   "cell_type": "code",
   "execution_count": 31,
   "id": "4afd2cb3",
   "metadata": {},
   "outputs": [
    {
     "name": "stdout",
     "output_type": "stream",
     "text": [
      "Congress needs conservative leaders right now. That’s why I’m standing with Claudia.\n",
      "Claudia for Congress\n",
      "Friend,\n",
      "Do you have a second to talk about the future of law and order in America?\n",
      "My name is Tom Cotton. I fought in Iraq and Afghanistan, I’m a Senator from Arkansas, and I know that you don’t normally see my name in your inbox, but I need your help right now.\n",
      "What we’re seeing going on around the country is downright horrifying.\n",
      "Police officers are in the crosshairs of lawless criminals.\n",
      "Federal courts are under siege.\n",
      "Law and order is being dismantled by the radical left.\n",
      "America desperately needs principled, conservative leaders who are willing to stand up to the liberal mob and that’s why I’m proud to endorse Claudia Tenney in her race to take back New York’s 22nd District.\n",
      "CHIP IN TO BRING CLAUDIA BACK TO WASHINGTON\n",
      "Claudia is tough on China, she stands up for our veterans, and we need her back in Congress.\n",
      "I’ve watched her liberal opponent Anthony Brindisi act as a lapdog to Nancy Pelosi and he wants to defund the police.\n",
      "Her opponent is so radical that he thinks that drug traffickers and rapists should be able to drag police officers to court.\n",
      "Will you join me in endorsing Claudia for Congress today so that we can stop Brindisi from doing any further damage to law and order before it’s too late?\n",
      "CHIP IN $25 TO DEFEND LAW AND ORDER\n",
      "CHIP IN $50 TO DEFEND LAW AND ORDER\n",
      "CHIP IN $100 TO DEFEND LAW AND ORDER\n",
      "CHIP IN ANYTHING TO DEFEND LAW AND ORDER\n",
      "It’s going to be a fight from here to November 3rd – but together, we can win this.\n",
      "In service,\n",
      "Tom Cotton\n",
      "Senator Tom Cotton\n",
      "Paid for by Claudia for Congress\n",
      "PO Box 244 Clinton, NY 13323\n",
      "This email was sent to [[EMAIL_REDACTED]]\n",
      "Unsubscribe\n",
      "By law the maximum amount an individual may contribute is $2,800 for the primary and $2,800 for the general election. Federal law requires us to obtain and report the name, mailing address, occupation and name of employer for each individual whose contributions aggregate in excess of $200 per election cycle. By clicking “Donate Now\" I certify that the following statements are true and accurate: I am at least 18 years old, this contribution is made from my personal credit or debit card with my own personal funds and is not made from the general treasury funds of a corporation, labor organization, national bank, or entity or person that is a federal contractor, and I will not be reimbursed for this contribution by another person. I am a U.S. citizen or a lawfully admitted permanent resident, and I am not a foreign national or a federal contractor. Contributions are not tax deductible as charitable contributions for federal income tax purposes. Funds received are subject to federal limits and source prohibitions. Contributions by corporations, national banks, foreign nationals (non-green card holders), labor unions, federal government contractors, and minors under the age of 18 are prohibited. © 2017 By subscribing with your mobile number you are agreeing to receive periodic text messages from Claudia Tenney for Congress. Text message and/or data rates may apply. Text \"STOP\" to opt-out.#85737\n"
     ]
    }
   ],
   "source": [
    "print(all_texts[85737])"
   ]
  },
  {
   "cell_type": "code",
   "execution_count": null,
   "id": "dc63b270",
   "metadata": {},
   "outputs": [],
   "source": []
  }
 ],
 "metadata": {
  "kernelspec": {
   "display_name": "Python 3 (ipykernel)",
   "language": "python",
   "name": "python3"
  },
  "language_info": {
   "codemirror_mode": {
    "name": "ipython",
    "version": 3
   },
   "file_extension": ".py",
   "mimetype": "text/x-python",
   "name": "python",
   "nbconvert_exporter": "python",
   "pygments_lexer": "ipython3",
   "version": "3.10.9"
  }
 },
 "nbformat": 4,
 "nbformat_minor": 5
}
