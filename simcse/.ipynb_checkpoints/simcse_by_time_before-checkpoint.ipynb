{
 "cells": [
  {
   "cell_type": "markdown",
   "id": "2cfc2925",
   "metadata": {},
   "source": [
    "# SimCSE Analysis by time"
   ]
  },
  {
   "cell_type": "code",
   "execution_count": 1,
   "id": "af419605",
   "metadata": {},
   "outputs": [],
   "source": [
    "import pandas as pd"
   ]
  },
  {
   "cell_type": "markdown",
   "id": "7acbcba6",
   "metadata": {},
   "source": [
    "We noticed that a lot of emails related to crime and police brutality are related to the murder of George Floyd and the calls for defunding the police that followed. So, we conduct a temporal analysis looking at emails before and after May 25, 2020."
   ]
  },
  {
   "cell_type": "markdown",
   "id": "6249282f",
   "metadata": {},
   "source": [
    "## Emails from before May 2020"
   ]
  },
  {
   "cell_type": "code",
   "execution_count": 2,
   "id": "c3e202fb",
   "metadata": {
    "scrolled": true
   },
   "outputs": [],
   "source": [
    "before = pd.read_csv('corpus_sample/filtered_corpus_before.csv', index_col=0)"
   ]
  },
  {
   "cell_type": "code",
   "execution_count": 3,
   "id": "50175a36",
   "metadata": {
    "scrolled": true
   },
   "outputs": [
    {
     "data": {
      "text/html": [
       "<div>\n",
       "<style scoped>\n",
       "    .dataframe tbody tr th:only-of-type {\n",
       "        vertical-align: middle;\n",
       "    }\n",
       "\n",
       "    .dataframe tbody tr th {\n",
       "        vertical-align: top;\n",
       "    }\n",
       "\n",
       "    .dataframe thead th {\n",
       "        text-align: right;\n",
       "    }\n",
       "</style>\n",
       "<table border=\"1\" class=\"dataframe\">\n",
       "  <thead>\n",
       "    <tr style=\"text-align: right;\">\n",
       "      <th></th>\n",
       "      <th>from_name</th>\n",
       "      <th>from_address</th>\n",
       "      <th>subject</th>\n",
       "      <th>body_text</th>\n",
       "      <th>name</th>\n",
       "      <th>office_sought</th>\n",
       "      <th>party_affiliation</th>\n",
       "      <th>office_level</th>\n",
       "      <th>district_type</th>\n",
       "      <th>final_website</th>\n",
       "      <th>...</th>\n",
       "      <th>source</th>\n",
       "      <th>state</th>\n",
       "      <th>type</th>\n",
       "      <th>subtype</th>\n",
       "      <th>date</th>\n",
       "      <th>hour</th>\n",
       "      <th>day</th>\n",
       "      <th>uid_email</th>\n",
       "      <th>uid_inbox</th>\n",
       "      <th>incumbent</th>\n",
       "    </tr>\n",
       "    <tr>\n",
       "      <th>Unnamed: 0</th>\n",
       "      <th></th>\n",
       "      <th></th>\n",
       "      <th></th>\n",
       "      <th></th>\n",
       "      <th></th>\n",
       "      <th></th>\n",
       "      <th></th>\n",
       "      <th></th>\n",
       "      <th></th>\n",
       "      <th></th>\n",
       "      <th></th>\n",
       "      <th></th>\n",
       "      <th></th>\n",
       "      <th></th>\n",
       "      <th></th>\n",
       "      <th></th>\n",
       "      <th></th>\n",
       "      <th></th>\n",
       "      <th></th>\n",
       "      <th></th>\n",
       "      <th></th>\n",
       "    </tr>\n",
       "  </thead>\n",
       "  <tbody>\n",
       "    <tr>\n",
       "      <th>2891</th>\n",
       "      <td>Kathaleen Wall</td>\n",
       "      <td>info@kathaleenwall.com</td>\n",
       "      <td>You're in! (And next steps...)</td>\n",
       "      <td>One more thing we need right away\\nThanks for ...</td>\n",
       "      <td>Kathaleen Wall</td>\n",
       "      <td>U.S. House Texas District 22</td>\n",
       "      <td>Republican Party</td>\n",
       "      <td>Federal</td>\n",
       "      <td>Congress</td>\n",
       "      <td>https://kathaleenwall.com/</td>\n",
       "      <td>...</td>\n",
       "      <td>ballotpedia-campaign</td>\n",
       "      <td>NaN</td>\n",
       "      <td>NaN</td>\n",
       "      <td>NaN</td>\n",
       "      <td>2019-12-03</td>\n",
       "      <td>20</td>\n",
       "      <td>Tue</td>\n",
       "      <td>faa17a65228ab2a1b424921622345df7</td>\n",
       "      <td>200868d639d7f75cf6f38d2eedf77861</td>\n",
       "      <td>No</td>\n",
       "    </tr>\n",
       "    <tr>\n",
       "      <th>22793</th>\n",
       "      <td>Alissa Baldwin</td>\n",
       "      <td>baldwinforunitedstatessenate@gmail.com</td>\n",
       "      <td>Baldwin for United States Senate: Please Confi...</td>\n",
       "      <td># Baldwin for United States Senate\\n## Please ...</td>\n",
       "      <td>Alissa Baldwin</td>\n",
       "      <td>U.S. Senate Virginia</td>\n",
       "      <td>Republican Party</td>\n",
       "      <td>Federal</td>\n",
       "      <td>State</td>\n",
       "      <td>https://www.alissabaldwin.com/</td>\n",
       "      <td>...</td>\n",
       "      <td>ballotpedia-campaign</td>\n",
       "      <td>NaN</td>\n",
       "      <td>NaN</td>\n",
       "      <td>NaN</td>\n",
       "      <td>2019-12-03</td>\n",
       "      <td>23</td>\n",
       "      <td>Tue</td>\n",
       "      <td>da3a7494c32cbc147dbae0374d73a2e5</td>\n",
       "      <td>36d5d36a4c03b90b86e08a26c6d4bdb3</td>\n",
       "      <td>No</td>\n",
       "    </tr>\n",
       "    <tr>\n",
       "      <th>22791</th>\n",
       "      <td>Alissa Baldwin</td>\n",
       "      <td>baldwinforunitedstatessenate@gmail.com</td>\n",
       "      <td>Baldwin for United States Senate: Please Confi...</td>\n",
       "      <td># Baldwin for United States Senate\\n## Please ...</td>\n",
       "      <td>Alissa Baldwin</td>\n",
       "      <td>U.S. Senate Virginia</td>\n",
       "      <td>Republican Party</td>\n",
       "      <td>Federal</td>\n",
       "      <td>State</td>\n",
       "      <td>https://www.alissabaldwin.com/</td>\n",
       "      <td>...</td>\n",
       "      <td>ballotpedia-campaign</td>\n",
       "      <td>NaN</td>\n",
       "      <td>NaN</td>\n",
       "      <td>NaN</td>\n",
       "      <td>2019-12-03</td>\n",
       "      <td>23</td>\n",
       "      <td>Tue</td>\n",
       "      <td>4dffc1de8157bb6f98341b20978aa18e</td>\n",
       "      <td>36d5d36a4c03b90b86e08a26c6d4bdb3</td>\n",
       "      <td>No</td>\n",
       "    </tr>\n",
       "    <tr>\n",
       "      <th>22790</th>\n",
       "      <td>Alissa Baldwin</td>\n",
       "      <td>baldwinforunitedstatessenate@gmail.com</td>\n",
       "      <td>Baldwin for United States Senate: Please Confi...</td>\n",
       "      <td># Baldwin for United States Senate\\n## Please ...</td>\n",
       "      <td>Alissa Baldwin</td>\n",
       "      <td>U.S. Senate Virginia</td>\n",
       "      <td>Republican Party</td>\n",
       "      <td>Federal</td>\n",
       "      <td>State</td>\n",
       "      <td>https://www.alissabaldwin.com/</td>\n",
       "      <td>...</td>\n",
       "      <td>ballotpedia-campaign</td>\n",
       "      <td>NaN</td>\n",
       "      <td>NaN</td>\n",
       "      <td>NaN</td>\n",
       "      <td>2019-12-03</td>\n",
       "      <td>23</td>\n",
       "      <td>Tue</td>\n",
       "      <td>791c867605f5698014c6c5e986302c80</td>\n",
       "      <td>36d5d36a4c03b90b86e08a26c6d4bdb3</td>\n",
       "      <td>No</td>\n",
       "    </tr>\n",
       "    <tr>\n",
       "      <th>22576</th>\n",
       "      <td>Alyse Galvin for Congress</td>\n",
       "      <td>info@alyse4alaska.com</td>\n",
       "      <td>Thank you for joining our campaign!</td>\n",
       "      <td>Dear Friend,\\nThank you for joining our campai...</td>\n",
       "      <td>Alyse Galvin</td>\n",
       "      <td>U.S. House Alaska At-large District</td>\n",
       "      <td>Democratic Party</td>\n",
       "      <td>Federal</td>\n",
       "      <td>Congress</td>\n",
       "      <td>https://www.alyse4alaska.com/</td>\n",
       "      <td>...</td>\n",
       "      <td>ballotpedia-campaign</td>\n",
       "      <td>NaN</td>\n",
       "      <td>NaN</td>\n",
       "      <td>NaN</td>\n",
       "      <td>2019-12-03</td>\n",
       "      <td>23</td>\n",
       "      <td>Tue</td>\n",
       "      <td>32c900bf15c2e00bd6dc9030feecc076</td>\n",
       "      <td>103c5a5f7842d34d35677a16b723624e</td>\n",
       "      <td>No</td>\n",
       "    </tr>\n",
       "    <tr>\n",
       "      <th>...</th>\n",
       "      <td>...</td>\n",
       "      <td>...</td>\n",
       "      <td>...</td>\n",
       "      <td>...</td>\n",
       "      <td>...</td>\n",
       "      <td>...</td>\n",
       "      <td>...</td>\n",
       "      <td>...</td>\n",
       "      <td>...</td>\n",
       "      <td>...</td>\n",
       "      <td>...</td>\n",
       "      <td>...</td>\n",
       "      <td>...</td>\n",
       "      <td>...</td>\n",
       "      <td>...</td>\n",
       "      <td>...</td>\n",
       "      <td>...</td>\n",
       "      <td>...</td>\n",
       "      <td>...</td>\n",
       "      <td>...</td>\n",
       "      <td>...</td>\n",
       "    </tr>\n",
       "    <tr>\n",
       "      <th>115744</th>\n",
       "      <td>Tina Smith</td>\n",
       "      <td>info@tinaforminnesota.com</td>\n",
       "      <td>Your inbox</td>\n",
       "      <td>#\\nI know you probably have better things to d...</td>\n",
       "      <td>Tina Smith</td>\n",
       "      <td>U.S. Senate Minnesota</td>\n",
       "      <td>Democratic Party</td>\n",
       "      <td>Federal</td>\n",
       "      <td>State</td>\n",
       "      <td>https://tinaforminnesota.com/</td>\n",
       "      <td>...</td>\n",
       "      <td>ballotpedia-campaign</td>\n",
       "      <td>NaN</td>\n",
       "      <td>NaN</td>\n",
       "      <td>NaN</td>\n",
       "      <td>2020-05-24</td>\n",
       "      <td>14</td>\n",
       "      <td>Sun</td>\n",
       "      <td>8f283c5d65030aaae9f017e825100e9e</td>\n",
       "      <td>b1be0a449f555140c522880e6c1a5d15</td>\n",
       "      <td>Yes</td>\n",
       "    </tr>\n",
       "    <tr>\n",
       "      <th>135312</th>\n",
       "      <td>Moe Davis for Congress</td>\n",
       "      <td>wordpress@moedavisforcongress.com</td>\n",
       "      <td>Moe Davis Newsletter Signup</td>\n",
       "      <td>From: Alex Brown &lt;[[EMAIL_REDACTED]]&gt;\\nSubject...</td>\n",
       "      <td>Morris \"Moe\" Davis</td>\n",
       "      <td>U.S. House North Carolina District 11</td>\n",
       "      <td>Democratic Party</td>\n",
       "      <td>Federal</td>\n",
       "      <td>Congress</td>\n",
       "      <td>http://moedavisforcongress.com/</td>\n",
       "      <td>...</td>\n",
       "      <td>ballotpedia-campaign</td>\n",
       "      <td>NaN</td>\n",
       "      <td>NaN</td>\n",
       "      <td>NaN</td>\n",
       "      <td>2020-05-24</td>\n",
       "      <td>19</td>\n",
       "      <td>Sun</td>\n",
       "      <td>afc298415a8699e24b941eb8395a3e00</td>\n",
       "      <td>0027338f3ca5fc0e9941680f08dde89e</td>\n",
       "      <td>NaN</td>\n",
       "    </tr>\n",
       "    <tr>\n",
       "      <th>53516</th>\n",
       "      <td>🇺🇸 Rishi Kumar 🇺🇸For U.S. Representative Distr...</td>\n",
       "      <td>campaign@rishi2020.com</td>\n",
       "      <td>Career Sunday and a Spiritual Quest</td>\n",
       "      <td>Product manager is the CEO of the product . La...</td>\n",
       "      <td>Rishi Kumar</td>\n",
       "      <td>U.S. House California District 18</td>\n",
       "      <td>Democratic Party</td>\n",
       "      <td>Federal</td>\n",
       "      <td>Congress</td>\n",
       "      <td>https://rishikumar.com/</td>\n",
       "      <td>...</td>\n",
       "      <td>ballotpedia-campaign</td>\n",
       "      <td>NaN</td>\n",
       "      <td>NaN</td>\n",
       "      <td>NaN</td>\n",
       "      <td>2020-05-24</td>\n",
       "      <td>0</td>\n",
       "      <td>Sun</td>\n",
       "      <td>d918fedc624f0b00ee923a7155ea11a8</td>\n",
       "      <td>abe76b985b7a73852d62cb78839b7617</td>\n",
       "      <td>No</td>\n",
       "    </tr>\n",
       "    <tr>\n",
       "      <th>147547</th>\n",
       "      <td>U.S. Senator Rand Paul</td>\n",
       "      <td>rand.paul@ericbrakey4congress.com</td>\n",
       "      <td>Still closed down, with 50 days to go...</td>\n",
       "      <td>Just 50 days left                             ...</td>\n",
       "      <td>Eric Brakey</td>\n",
       "      <td>U.S. House Maine District 2</td>\n",
       "      <td>Republican Party</td>\n",
       "      <td>Federal</td>\n",
       "      <td>Congress</td>\n",
       "      <td>brakeyforcongress.com</td>\n",
       "      <td>...</td>\n",
       "      <td>ballotpedia-campaign</td>\n",
       "      <td>NaN</td>\n",
       "      <td>NaN</td>\n",
       "      <td>NaN</td>\n",
       "      <td>2020-05-24</td>\n",
       "      <td>9</td>\n",
       "      <td>Sun</td>\n",
       "      <td>d09c3d053b57cff46111100e3f0ad1ce</td>\n",
       "      <td>ec5712dfd9837e662505234824e2e82d</td>\n",
       "      <td>No</td>\n",
       "    </tr>\n",
       "    <tr>\n",
       "      <th>85557</th>\n",
       "      <td>Urgent Message for Alex via ECU</td>\n",
       "      <td>admin@endcitizensunited.org</td>\n",
       "      <td>re: 95335 Post Offices [ECU Survey]</td>\n",
       "      <td>We are missing your responses, Alex Brown.\\nEn...</td>\n",
       "      <td>Brynne Kennedy</td>\n",
       "      <td>U.S. House California District 4</td>\n",
       "      <td>Democratic Party</td>\n",
       "      <td>Federal</td>\n",
       "      <td>Congress</td>\n",
       "      <td>brynneforcongress.com</td>\n",
       "      <td>...</td>\n",
       "      <td>ballotpedia-campaign</td>\n",
       "      <td>NaN</td>\n",
       "      <td>NaN</td>\n",
       "      <td>NaN</td>\n",
       "      <td>2020-05-24</td>\n",
       "      <td>22</td>\n",
       "      <td>Sun</td>\n",
       "      <td>422833f4f081cc91b1f505a4da2ba042</td>\n",
       "      <td>95cadfe6ebc480e1b8ec39e711a8c335</td>\n",
       "      <td>No</td>\n",
       "    </tr>\n",
       "  </tbody>\n",
       "</table>\n",
       "<p>36467 rows × 21 columns</p>\n",
       "</div>"
      ],
      "text/plain": [
       "                                                    from_name  \\\n",
       "Unnamed: 0                                                      \n",
       "2891                                           Kathaleen Wall   \n",
       "22793                                          Alissa Baldwin   \n",
       "22791                                          Alissa Baldwin   \n",
       "22790                                          Alissa Baldwin   \n",
       "22576                               Alyse Galvin for Congress   \n",
       "...                                                       ...   \n",
       "115744                                             Tina Smith   \n",
       "135312                                 Moe Davis for Congress   \n",
       "53516       🇺🇸 Rishi Kumar 🇺🇸For U.S. Representative Distr...   \n",
       "147547                                 U.S. Senator Rand Paul   \n",
       "85557                         Urgent Message for Alex via ECU   \n",
       "\n",
       "                                      from_address  \\\n",
       "Unnamed: 0                                           \n",
       "2891                        info@kathaleenwall.com   \n",
       "22793       baldwinforunitedstatessenate@gmail.com   \n",
       "22791       baldwinforunitedstatessenate@gmail.com   \n",
       "22790       baldwinforunitedstatessenate@gmail.com   \n",
       "22576                        info@alyse4alaska.com   \n",
       "...                                            ...   \n",
       "115744                   info@tinaforminnesota.com   \n",
       "135312           wordpress@moedavisforcongress.com   \n",
       "53516                       campaign@rishi2020.com   \n",
       "147547           rand.paul@ericbrakey4congress.com   \n",
       "85557                  admin@endcitizensunited.org   \n",
       "\n",
       "                                                      subject  \\\n",
       "Unnamed: 0                                                      \n",
       "2891                           You're in! (And next steps...)   \n",
       "22793       Baldwin for United States Senate: Please Confi...   \n",
       "22791       Baldwin for United States Senate: Please Confi...   \n",
       "22790       Baldwin for United States Senate: Please Confi...   \n",
       "22576                     Thank you for joining our campaign!   \n",
       "...                                                       ...   \n",
       "115744                                             Your inbox   \n",
       "135312                            Moe Davis Newsletter Signup   \n",
       "53516                    Career Sunday and a Spiritual Quest    \n",
       "147547             Still closed down, with 50 days to go...     \n",
       "85557                     re: 95335 Post Offices [ECU Survey]   \n",
       "\n",
       "                                                    body_text  \\\n",
       "Unnamed: 0                                                      \n",
       "2891        One more thing we need right away\\nThanks for ...   \n",
       "22793       # Baldwin for United States Senate\\n## Please ...   \n",
       "22791       # Baldwin for United States Senate\\n## Please ...   \n",
       "22790       # Baldwin for United States Senate\\n## Please ...   \n",
       "22576       Dear Friend,\\nThank you for joining our campai...   \n",
       "...                                                       ...   \n",
       "115744      #\\nI know you probably have better things to d...   \n",
       "135312      From: Alex Brown <[[EMAIL_REDACTED]]>\\nSubject...   \n",
       "53516       Product manager is the CEO of the product . La...   \n",
       "147547      Just 50 days left                             ...   \n",
       "85557       We are missing your responses, Alex Brown.\\nEn...   \n",
       "\n",
       "                          name                          office_sought  \\\n",
       "Unnamed: 0                                                              \n",
       "2891            Kathaleen Wall           U.S. House Texas District 22   \n",
       "22793           Alissa Baldwin                   U.S. Senate Virginia   \n",
       "22791           Alissa Baldwin                   U.S. Senate Virginia   \n",
       "22790           Alissa Baldwin                   U.S. Senate Virginia   \n",
       "22576             Alyse Galvin    U.S. House Alaska At-large District   \n",
       "...                        ...                                    ...   \n",
       "115744              Tina Smith                  U.S. Senate Minnesota   \n",
       "135312      Morris \"Moe\" Davis  U.S. House North Carolina District 11   \n",
       "53516              Rishi Kumar      U.S. House California District 18   \n",
       "147547             Eric Brakey            U.S. House Maine District 2   \n",
       "85557           Brynne Kennedy       U.S. House California District 4   \n",
       "\n",
       "           party_affiliation office_level district_type  \\\n",
       "Unnamed: 0                                                \n",
       "2891        Republican Party      Federal      Congress   \n",
       "22793       Republican Party      Federal         State   \n",
       "22791       Republican Party      Federal         State   \n",
       "22790       Republican Party      Federal         State   \n",
       "22576       Democratic Party      Federal      Congress   \n",
       "...                      ...          ...           ...   \n",
       "115744      Democratic Party      Federal         State   \n",
       "135312      Democratic Party      Federal      Congress   \n",
       "53516       Democratic Party      Federal      Congress   \n",
       "147547      Republican Party      Federal      Congress   \n",
       "85557       Democratic Party      Federal      Congress   \n",
       "\n",
       "                              final_website  ...                source state  \\\n",
       "Unnamed: 0                                   ...                               \n",
       "2891             https://kathaleenwall.com/  ...  ballotpedia-campaign   NaN   \n",
       "22793        https://www.alissabaldwin.com/  ...  ballotpedia-campaign   NaN   \n",
       "22791        https://www.alissabaldwin.com/  ...  ballotpedia-campaign   NaN   \n",
       "22790        https://www.alissabaldwin.com/  ...  ballotpedia-campaign   NaN   \n",
       "22576         https://www.alyse4alaska.com/  ...  ballotpedia-campaign   NaN   \n",
       "...                                     ...  ...                   ...   ...   \n",
       "115744        https://tinaforminnesota.com/  ...  ballotpedia-campaign   NaN   \n",
       "135312      http://moedavisforcongress.com/  ...  ballotpedia-campaign   NaN   \n",
       "53516               https://rishikumar.com/  ...  ballotpedia-campaign   NaN   \n",
       "147547                brakeyforcongress.com  ...  ballotpedia-campaign   NaN   \n",
       "85557                 brynneforcongress.com  ...  ballotpedia-campaign   NaN   \n",
       "\n",
       "            type  subtype        date hour  day  \\\n",
       "Unnamed: 0                                        \n",
       "2891         NaN      NaN  2019-12-03   20  Tue   \n",
       "22793        NaN      NaN  2019-12-03   23  Tue   \n",
       "22791        NaN      NaN  2019-12-03   23  Tue   \n",
       "22790        NaN      NaN  2019-12-03   23  Tue   \n",
       "22576        NaN      NaN  2019-12-03   23  Tue   \n",
       "...          ...      ...         ...  ...  ...   \n",
       "115744       NaN      NaN  2020-05-24   14  Sun   \n",
       "135312       NaN      NaN  2020-05-24   19  Sun   \n",
       "53516        NaN      NaN  2020-05-24    0  Sun   \n",
       "147547       NaN      NaN  2020-05-24    9  Sun   \n",
       "85557        NaN      NaN  2020-05-24   22  Sun   \n",
       "\n",
       "                                   uid_email  \\\n",
       "Unnamed: 0                                     \n",
       "2891        faa17a65228ab2a1b424921622345df7   \n",
       "22793       da3a7494c32cbc147dbae0374d73a2e5   \n",
       "22791       4dffc1de8157bb6f98341b20978aa18e   \n",
       "22790       791c867605f5698014c6c5e986302c80   \n",
       "22576       32c900bf15c2e00bd6dc9030feecc076   \n",
       "...                                      ...   \n",
       "115744      8f283c5d65030aaae9f017e825100e9e   \n",
       "135312      afc298415a8699e24b941eb8395a3e00   \n",
       "53516       d918fedc624f0b00ee923a7155ea11a8   \n",
       "147547      d09c3d053b57cff46111100e3f0ad1ce   \n",
       "85557       422833f4f081cc91b1f505a4da2ba042   \n",
       "\n",
       "                                   uid_inbox incumbent  \n",
       "Unnamed: 0                                              \n",
       "2891        200868d639d7f75cf6f38d2eedf77861        No  \n",
       "22793       36d5d36a4c03b90b86e08a26c6d4bdb3        No  \n",
       "22791       36d5d36a4c03b90b86e08a26c6d4bdb3        No  \n",
       "22790       36d5d36a4c03b90b86e08a26c6d4bdb3        No  \n",
       "22576       103c5a5f7842d34d35677a16b723624e        No  \n",
       "...                                      ...       ...  \n",
       "115744      b1be0a449f555140c522880e6c1a5d15       Yes  \n",
       "135312      0027338f3ca5fc0e9941680f08dde89e       NaN  \n",
       "53516       abe76b985b7a73852d62cb78839b7617        No  \n",
       "147547      ec5712dfd9837e662505234824e2e82d        No  \n",
       "85557       95cadfe6ebc480e1b8ec39e711a8c335        No  \n",
       "\n",
       "[36467 rows x 21 columns]"
      ]
     },
     "execution_count": 3,
     "metadata": {},
     "output_type": "execute_result"
    }
   ],
   "source": [
    "before.sort_values('date')"
   ]
  },
  {
   "cell_type": "code",
   "execution_count": 4,
   "id": "2710fa99",
   "metadata": {},
   "outputs": [
    {
     "name": "stderr",
     "output_type": "stream",
     "text": [
      "07/19/2023 13:04:51 - INFO - torch.distributed.nn.jit.instantiator -   Created a temporary directory at /tmp/tmpb5ndjsls\n",
      "07/19/2023 13:04:51 - INFO - torch.distributed.nn.jit.instantiator -   Writing /tmp/tmpb5ndjsls/_remote_module_non_scriptable.py\n",
      "07/19/2023 13:04:53 - INFO - faiss.loader -   Loading faiss with AVX2 support.\n",
      "07/19/2023 13:04:53 - INFO - faiss.loader -   Could not load library with AVX2 support due to:\n",
      "ModuleNotFoundError(\"No module named 'faiss.swigfaiss_avx2'\")\n",
      "07/19/2023 13:04:53 - INFO - faiss.loader -   Loading faiss.\n",
      "07/19/2023 13:04:53 - INFO - faiss.loader -   Successfully loaded faiss.\n",
      "07/19/2023 13:04:53 - INFO - simcse.tool -   Encoding embeddings for sentences...\n",
      "100%|███████████████████████████████████████████████████████████████████| 570/570 [03:52<00:00,  2.46it/s]\n",
      "07/19/2023 13:08:49 - INFO - simcse.tool -   Building index...\n",
      "07/19/2023 13:08:49 - INFO - simcse.tool -   Use GPU-version faiss\n",
      "07/19/2023 13:08:50 - INFO - simcse.tool -   Finished\n"
     ]
    }
   ],
   "source": [
    "from simcse import SimCSE\n",
    "from encode import *"
   ]
  },
  {
   "cell_type": "markdown",
   "id": "8eb99280",
   "metadata": {},
   "source": [
    "After loading the SimCSE tool, here are some emails similar to sample sentences. *Note that the threshold had to be lowered from 0.6 to 0.5.*"
   ]
  },
  {
   "cell_type": "code",
   "execution_count": 5,
   "id": "d375edfd",
   "metadata": {},
   "outputs": [
    {
     "name": "stderr",
     "output_type": "stream",
     "text": [
      "100%|███████████████████████████████████████████████████████████████████████| 1/1 [00:00<00:00, 42.96it/s]\n"
     ]
    },
    {
     "data": {
      "text/plain": [
       "{('19696', '33748', '5395', '6126')}"
      ]
     },
     "execution_count": 5,
     "metadata": {},
     "output_type": "execute_result"
    }
   ],
   "source": [
    "very_similar(['We need to defund the police.'], 0.5)"
   ]
  },
  {
   "cell_type": "code",
   "execution_count": 6,
   "id": "6fb2eeaf",
   "metadata": {
    "scrolled": true
   },
   "outputs": [
    {
     "name": "stdout",
     "output_type": "stream",
     "text": [
      "State-sponsored violence. Human rights abuses. Peaceful protests met with force.\n",
      "That's what people living in Hong Kong are facing as they fight for a democratic future.\n",
      "Many of us have spoken out in favor of the Hong Kong protestors. But we can and must do more. We must ensure that America does not enable or empower the police force in Hong Kong to oppress this pro-democracy movement.\n",
      "That's why I led a bipartisan charge in the Senate to ensure that no one in the United States is allowed to sell tear gas, pepper spray, rubber bullets, and other crowd control equipment to the police force in Hong Kong.\n",
      "See a problem. Take a stand. Bring people together. Get it done.\n",
      "That is what public service should be about. And it's why it's my privilege to serve the people of Oregon in the U.S. Senate.\n",
      "Onward,\n",
      "Jeff\n",
      "Express Donate:\n",
      "If you've stored your info with ActBlue Express, we'll process your contribution instantly:\n",
      "$5 $15 $25 $50\n",
      "Paid for by Jeff Merkley for Oregon.\n",
      "This email was sent by Jeff Merkley for Oregon\n",
      "PO Box 14172, Portland, OR 97293.\n",
      "Email is an important way for Senator Merkley to keep supporters like you informed about critical issues and to build a winning grassroots campaign. Too much email? Switch to our less email option here. If you no longer want to hear from Senator Merkley, click here to get off all our lists instantly. Questions or concerns? Contact us here.#19696\n"
     ]
    }
   ],
   "source": [
    "# References Hong Kong protests\n",
    "print(all_texts[19696])"
   ]
  },
  {
   "cell_type": "code",
   "execution_count": 7,
   "id": "2c58251b",
   "metadata": {
    "scrolled": true
   },
   "outputs": [
    {
     "name": "stdout",
     "output_type": "stream",
     "text": [
      "You'll want to read this\n",
      "Alex,\n",
      "Our goal needs to be defeating this COVID-19 pandemic. Flattening the curve. Protecting the vulnerable.\n",
      "We can do this with common sense policies. And we can do this without creating a police state, which is now what my opponent is publicly supporting.\n",
      "Wendy Davis attacked me this week because I dared to say that you shouldn't be pulled over by the police for merely driving out in public.\n",
      "If Wendy had her way, you'd be arrested and detained for walking out your front door.\n",
      "This is what it's come to.\n",
      "Petty tyranny is real. We have actual petty tyrants all across the country taking advantage of this crisis, flexing their proverbial muscles, drunk with power.\n",
      "And who's right beside them cheering them on? Wendy Davis.\n",
      "This isn't just one candidate going rogue—her views are in line with today's Democratic Party. She's already had the party rush to her defense to back up her tyrannical views.\n",
      "And then they took it a step further.\n",
      "After publicly supporting a police state, they made the argument that we're anti-Semitic for not wanting to embrace policies used by Nazi Germany or Soviet Russia.\n",
      "Yes, the argument is as silly as it sounds. But this is what the left does. They support tyrannical government policies and then they attack their opponent for disagreeing.\n",
      "This kind of attempt at a power grab is exactly why no one trusts politicians.\n",
      "It is imperative that we keep this seat and keep these power-hungry politicians out of Washington and out of TX-21.\n",
      "Will you help us? If you can, chip in $25, $50, $100, $250, or even $500 to send a message that we won't be supporting a police state in Texas.\n",
      "Donate $25 Today\n",
      "Donate $50 Today\n",
      "Donate $100 Today\n",
      "Donate $250 Today\n",
      "Donate $500 Today\n",
      "I will do everything in my power to see to it that the fear surrounding a pandemic isn't used to adopt police state policies once standard in Nazi Germany or Soviet Russia. We can embrace public health policies and practices without forgetting what this country stands for. We are going to protect liberty at all costs.\n",
      "Let's beat this virus. Let's flatten the curve. And let's do it while maintaining liberty and personal freedom.\n",
      "I want you to know that if you're hurting in any way from the COVID-19 pandemic, we completely understand if you're not able to help our campaign financially. We're continuing to lift you and your family up in prayer through this difficult time.\n",
      "I'm proud to be your Congressman.\n",
      "For Texas,\n",
      "Chip Roy\n",
      "U.S. Congressman, TX-21\n",
      "P.S. We can't let Texas turn into a police state. Please chip in $25, $50, $100, $250, $500 or more and let's keep Texas Red!\n",
      "Facebook\n",
      "Twitter\n",
      "Website\n",
      "View this email in your browser.\n",
      "Copyright © 2020, Chip Roy for Congress. All rights reserved.\n",
      "Our mailing address is:\n",
      "6705 W HIGHWAY 290, STE. 50295\n",
      "AUSTIN, TX 78735\n",
      "Want to change how you receive these emails?\n",
      "You can update your preferences or unsubscribe from this list.\n",
      "PAID FOR BY CHIP ROY FOR CONGRESS#33748\n"
     ]
    }
   ],
   "source": [
    "# References COVID policies and likely comparing COVID restrictions to policing\n",
    "print(all_texts[33748])"
   ]
  },
  {
   "cell_type": "code",
   "execution_count": 8,
   "id": "2783584c",
   "metadata": {},
   "outputs": [
    {
     "name": "stderr",
     "output_type": "stream",
     "text": [
      "100%|███████████████████████████████████████████████████████████████████████| 1/1 [00:00<00:00, 46.24it/s]\n"
     ]
    },
    {
     "data": {
      "text/plain": [
       "{('18981', '2678')}"
      ]
     },
     "execution_count": 8,
     "metadata": {},
     "output_type": "execute_result"
    }
   ],
   "source": [
    "very_similar(['We need to crack down on crime.'], 0.5)"
   ]
  },
  {
   "cell_type": "code",
   "execution_count": 9,
   "id": "546bd474",
   "metadata": {
    "scrolled": true
   },
   "outputs": [
    {
     "name": "stdout",
     "output_type": "stream",
     "text": [
      "Dr. Tarter for US Senate\n",
      "Friend,\n",
      "Our government’s primary function is to keep Americans safe!\n",
      "I have witnessed firsthand the devastation caused by illegal immigration. I did my medical training at the County Hospital of Los Angeles, one of the best public hospitals in the country. It’s located in a crime-ridden area heavily populated by illegal immigrants. Illegal immigrant gang members, drug dealers, and criminals create chaos and plague their communities.\n",
      "We absolutely need to stop illegal immigration by building the wall and giving Border Patrol the resources they need. We need local law enforcement to cooperate with ICE and deport illegal immigrants with criminal records. For those who want to come to this country, I strongly support them entering America legally through the front door.\n",
      "I stand ready to be a strong voice and leader for making our neighborhoods and communities safer, by strengthening our borders and ports of entry, and combating the deadly opioid crisis. Your support in my campaign for US Senate will help advance our values, and I would be forever grateful for any assistance you can provide during the final push!\n",
      "Request a Yard Sign Here\n",
      "By displaying a yard sign in your yard, you're letting your friends, family, and neighbors that you support our campaign and they should too. If every yard sign we put out translates to 10 votes, we will be victorious come March! We all know that every vote matters so as the weather breaks and spring approaches, our yards signs should be on full display throughout our state.\n",
      "Can I county on you to display a yard sign? Get yours here today!\n",
      "Don't forget to join us on Wednesday, February 26th for our Meet & Greet at Annabel Lee's in Jacksonville hosted by\n",
      "Dr. Jim & Janeen Bohan and Harry & Kaye Coop!\n",
      "RSVP here for our free Meet & Greet.\n",
      "Meet & Greet\n",
      "Meet & Greet with Dr. Tom Tarter\n",
      "Hosted by Dr. Jim & Janeen Bohan and Harry & Kaye Coop\n",
      "Wednesday, February 26th\n",
      "5:30 PM - 7:00 PM\n",
      "Annabel Lee's\n",
      "611 E. State St.\n",
      "Jacksonville, IL\n",
      "Beer, Wine & Snacks Provided\n",
      "For More Information or to RSVP\n",
      "[[URL REDACTED]] \\- 708.209.6076\n",
      "Contributions Welcome Online or At the Door\n",
      "[[URL REDACTED]]\n",
      "As the only true Republican candidate in our race for US Senate, I will fight for keeping Americans safe, building the wall, and standing with President Trump.\n",
      "I'm incredibly thankful for all of your support. Now let's finish this campaign strong!\n",
      "Your friend,\n",
      "Dr. Tom Tarter\n",
      "Paid for by Citizens for Tom Tarter.\n",
      "Copyright © 2020 Citizens For Tom Tarter, All rights reserved.\n",
      "You are receiving this email because you opted in via our website.\n",
      "Our mailing address is:\n",
      "Citizens For Tom Tarter\n",
      "1760 Wabash Ave\n",
      "PO Box 9144\n",
      "Springfield, IL 62704-5484\n",
      "Add us to your address book\n",
      "Want to change how you receive these emails?\n",
      "You can update your preferences or unsubscribe from this list.\n",
      "Email Marketing Powered by Mailchimp#18981\n"
     ]
    }
   ],
   "source": [
    "# Focused on the border & criminalization of immigrants\n",
    "print(all_texts[18981])"
   ]
  },
  {
   "cell_type": "code",
   "execution_count": 10,
   "id": "8e60d27d",
   "metadata": {
    "scrolled": true
   },
   "outputs": [
    {
     "name": "stdout",
     "output_type": "stream",
     "text": [
      "Alex,\n",
      "When someone goes to prison for a small offense -- like drug use -- that criminal record is attached to them for life. And they're often required to disclose this offense -- no matter how small -- to potential employers, landlords, banks, and others.\n",
      "This is just one of many ways that our criminal justice system operates as a failed institution, stigmatizing people for the rest of their lives.\n",
      "I believe we need to overhaul our criminal justice system. And if elected, I will support a movement to build a better, more rehabilitative system for Americans -- one that prevents crime and arms people with the tools needed to lead better lives. Join me by signing our petition if you agree.\n",
      "ADD YOUR NAME\n",
      "Here are just a few things that I would tackle as Iowa's next U.S. Senator:\n",
      "* Ending for-profit prisons -- businesses should not be able to profit off the incarceration of Americans.\n",
      "* Ending minimum sentencing -- each case has a unique set of circumstances surrounding it. One size does not fit all, and we must allow for differences in sentencing where appropriate.\n",
      "* Stop imprisoning drug abusers -- these people are sick with addiction, a crime not deserving of a several-year prison sentence.\n",
      "* Federally restoring voting rights to felons following their release.\n",
      "People like Joni Ernst should be fighting for criminal justice reform day in and day out, but instead, establishment politicians continue to ignore these shortcomings.\n",
      "We need leaders bold enough to fight for injustice especially when it's inconvenient.\n",
      "If you agree, sign our petition and join our call for sweeping criminal justice reform. We have the ability to make lasting changes with a little help from people like you.\n",
      "Thanks,\n",
      "Eddie Mauro\n",
      "DONATE\n",
      "This email was sent to: [[EMAIL_REDACTED]]\n",
      "Click here if you would like to unsubscribe from email updates.\n",
      "Contributions or gifts to Mauro Senate Campaign Team are not tax deductible.\n",
      "PAID FOR BY MAURO SENATE CAMPAIGN TEAM\n",
      "P.O. Box 21099\n",
      "Des Moines, IA 50321#2678\n"
     ]
    }
   ],
   "source": [
    "# Opposing view about reforming the criminal justice system\n",
    "print(all_texts[2678])"
   ]
  },
  {
   "cell_type": "code",
   "execution_count": 11,
   "id": "d868fcb5",
   "metadata": {},
   "outputs": [
    {
     "name": "stderr",
     "output_type": "stream",
     "text": [
      "100%|███████████████████████████████████████████████████████████████████████| 1/1 [00:00<00:00, 41.33it/s]\n"
     ]
    },
    {
     "data": {
      "text/plain": [
       "{('15315',\n",
       "  '17433',\n",
       "  '17444',\n",
       "  '18981',\n",
       "  '22760',\n",
       "  '28375',\n",
       "  '35788',\n",
       "  '8465',\n",
       "  '8563')}"
      ]
     },
     "execution_count": 11,
     "metadata": {},
     "output_type": "execute_result"
    }
   ],
   "source": [
    "very_similar(['Our cities are rampant with crime'], 0.5)"
   ]
  },
  {
   "cell_type": "code",
   "execution_count": 12,
   "id": "d48501fd",
   "metadata": {
    "scrolled": true
   },
   "outputs": [
    {
     "name": "stdout",
     "output_type": "stream",
     "text": [
      "Dear Alex,\n",
      "There was some tragic news this past weekend here in the Bronx. Two NYPD officers were shot while sitting in their patrol car in an assassination style attack.\n",
      "I'm praying for their quick recovery, and for their families, and I hope that you will join me.\n",
      "Unfortunately, these horrible attacks are merely the latest in a series of anti-police violence. The left has been demonizing our law enforcement officers for years now, and this is the result of that endless propaganda.\n",
      "Attacks like these prove that there needs to be a dramatic change in the way that New York City politicians act towards cops. And it has to start at the top.\n",
      "Mayor Bill de Blasio has repeatedly undermined the hardworking officers of the NYPD and allied himself with leftist extremists. The radicals he's siding with are demanding police officers stop carrying guns, and stop patrolling crime ridden neighborhoods!\n",
      "You and I both know that is no way to protect New York families.\n",
      "The Sergeant's Benefit Association, a major New York City police organization, has had enough of Mayor Bill de Blasio's attitude towards police. They tweeted the following after the recent attacks:\n",
      "This tweet is proof that liberal New York City politicians have failed our police officers. The left has created the violent atmosphere that lead to these attacks, and that must be ended before anyone else gets hurt.\n",
      "Our police officers need support at the federal level too, and they will have it unreservedly when I am elected to Congress.\n",
      "As a former NYPD officer myself, backing the blue will be a top priority for me in Congress after I defeat AOC this November.\n",
      "Our police officers need to know that the politicians who represent them have their backs, and I will. I served as a police officer here in the Bronx, and with New York City's Harbor Unit.\n",
      "That service taught me what our cops need to do their jobs - they need to know the public respects and supports them.\n",
      "If you support our police officers, and want another ally of law enforcement in Congress, please join our campaign to defeat AOC right now. I need real Americans like you to fight against the radical socialists donating millions to her campaign.\n",
      "With your help, we can put an end to this anti-police propaganda, and restore honest representation to the people of the 14th District who deserve change.\n",
      "Thank you for your support.\n",
      "John Cummings\n",
      "facebook twitter instagram\n",
      "Cummings for Congress\n",
      "47 Flintlock Drive PO Box 624\n",
      "Shirley, NY 11967\n",
      "Unsubscribe#15315\n"
     ]
    }
   ],
   "source": [
    "print(all_texts[15315])"
   ]
  },
  {
   "cell_type": "code",
   "execution_count": 13,
   "id": "acb635a6",
   "metadata": {
    "scrolled": true
   },
   "outputs": [
    {
     "name": "stdout",
     "output_type": "stream",
     "text": [
      ">\n",
      "Alp Basaran for Congress\n",
      "# Racial Justice\n",
      "Dear friends,\n",
      "Paterson is a monument to machine politics in America. While the good times roll for politicians, entire communities have been destroyed by corruption. Incomes are dropping, apartheid schools are increasing, and infrastructure is crumbling for the ordinary residents of Paterson. The model of championing certain parts of a beleaguered rust belt city and abandoning the rest is simply racial segregation by another name. Not surprisingly, Paterson is one of the most violent cities in the country. During a federal investigation, Paterson police officers admitted to dealing drugs, robbing and beating citizens, and illegally stopping and searching drivers. Paterson is a city in turmoil.\n",
      "Jameek Lowery\n",
      "On January 5, 2019, Jameek Lowery (1) walked into a Paterson police station, (2) live streamed a video in which he repeatedly asked police officers for water and to not kill him, (3) entered an ambulance where police officers used physical force and compliance holds to secure him, and (4) arrived at the hospital in an unresponsive state with severe facial injuries. Jameek Lowery died in the hospital within two days. When peaceful protestors gathered outside Paterson City Hall for days to demand answers, Paterson police used mace and arrested the leaders of the protests. Regardless of the cause of death in this case, walking into a police station should not be the last conscious act of any person in America.\n",
      "Criminal justice reform\n",
      "Police violence against unarmed minorities led to the deaths of countless men and women around the country. Black men are sentenced to 19% more jail time for committing the exact same crime as white men, and black Americans are jailed at more than five times the rate of whites. We have more people in jail than any other country on earth. We need real criminal justice reform both for our district and for America.\n",
      "We will bring about major police department reform. We will reform civil asset forfeitures. We will end the war on drugs, and replace jail with treatment for minor drug offenses. We will abolish the death penalty and end all mandatory minimums. We will eliminate private prisons and detention centers, which are financially incentivized to hold as many people for as long as possible.\n",
      "Thank you\n",
      "\\- Alp Basaran\n",
      "Donate\n",
      "Paid for by Alp Basaran for Congress\n",
      "Alp Basaran for Congress\n",
      "229 Main Street\n",
      "#2049\n",
      "Fort Lee, NJ 07024\n",
      "United States\n",
      "If you believe you received this message in error or wish to no longer receive email from us, please unsubscribe.#17433\n"
     ]
    }
   ],
   "source": [
    "print(all_texts[17433])"
   ]
  },
  {
   "cell_type": "code",
   "execution_count": 14,
   "id": "be44e7ea",
   "metadata": {},
   "outputs": [
    {
     "name": "stderr",
     "output_type": "stream",
     "text": [
      "100%|███████████████████████████████████████████████████████████████████████| 1/1 [00:00<00:00, 25.77it/s]\n"
     ]
    },
    {
     "data": {
      "text/plain": [
       "{('100', '10070', '19628')}"
      ]
     },
     "execution_count": 14,
     "metadata": {},
     "output_type": "execute_result"
    }
   ],
   "source": [
    "very_similar(['The left wants to decriminalize marijuana'], 0.5)"
   ]
  },
  {
   "cell_type": "code",
   "execution_count": 15,
   "id": "d733785d",
   "metadata": {
    "scrolled": true
   },
   "outputs": [
    {
     "name": "stdout",
     "output_type": "stream",
     "text": [
      "Alex,\n",
      "The plans that the RADICAL left have if they win the 2020 election is no secret. Democrats have FULLY embraced a socialist agenda that would destroy ALL of our historic progress. They have also been clear that they want to remove a duly elected president BEFORE the voters can decide.\n",
      "If they get their way the left will:\n",
      "* Open our borders;\n",
      "* Give free health care to illegal immigrants;\n",
      "* Eliminate our freedom to choose our own doctors and health coverage\n",
      "* Reverse the Republican-led tax-cuts and implement the LARGEST tax increase in American history;\n",
      "* Full-fledged gun confiscation.\n",
      "But here is what they aren't telling you...\n",
      "This RADICAL agenda has come to Missouri and the left is desperately trying to keep their plans a secret, but it's our job to expose them every single day. Liberals in Missouri know that their pro-impeachment, job-killing, higher tax agenda isn't popular with Missourians.\n",
      "We CAN'T let the left win and we MUST protect our progress. Governor Parson is working hard every day to strengthen our economy, grow our workforce, and rebuild our infrastructure. To continue this work, our campaign needs your help now more than ever.\n",
      "Chip in just $5 so that we can protect our progress.\n",
      "Hurry, there are only a few hours left.\n",
      "On to Victory!\n",
      "Steele Shippy\n",
      "Campaign Manager\n",
      "Sent from my iPhone\n",
      "\\---------- Forwarded message ---------\n",
      "From: Team Parson\n",
      "Date: Tues, Dec 31, 2019 at 11:23 AM\n",
      "Subject: we don't have a choice\n",
      "To: <[[EMAIL_REDACTED]]>\n",
      "Image\n",
      "Alex,\n",
      "Our state has flourished under Governor Mike Parson’s leadership. America's job market is growing, and more Missouri families have greater economic opportunities.\n",
      "Alex, we’ve made incredible progress so far, and under Governor Parson's leadership, we will continue to make our state a better place to live. We have to protect our progress.\n",
      "That’s why we’re reaching out to you. We need your URGENT help in making sure that our end of year fundraising goals are met.\n",
      "We’re still short $1,492 but with your help we can crush that goal.\n",
      "Can you help?\n",
      "Towards that end, all donations will be TRIPLE MATCHED.\n",
      "Rush in $25 = $75\n",
      "Rush in $50 = $150\n",
      "Rush in $100 = $300\n",
      "Rush in $250 = $750\n",
      "Join our team and make sure we protect our progress and crush our 2019 fundraising numbers.\n",
      "Thank you,\n",
      "Team Parson\n",
      "CONTRIBUTE\n",
      "PAID FOR BY PARSON FOR MISSOURI\n",
      "RACHEL LIGHTFOOT, TREASURER\n",
      "[[URL REDACTED]]\n",
      "PARSON FOR MISSOURI, PO BOX 1004, BOLIVAR, MO 65613\n",
      "This email was sent to [[EMAIL_REDACTED]]. Don't want to receive these emails anymore? Unsubscribe\n",
      "Mike Parson for Governor, PO BOX 1004, BOLIVAR, MO 65613#10070\n"
     ]
    }
   ],
   "source": [
    "print(all_texts[10070])"
   ]
  },
  {
   "cell_type": "code",
   "execution_count": null,
   "id": "97f58618",
   "metadata": {},
   "outputs": [],
   "source": []
  }
 ],
 "metadata": {
  "kernelspec": {
   "display_name": "Python 3 (ipykernel)",
   "language": "python",
   "name": "python3"
  },
  "language_info": {
   "codemirror_mode": {
    "name": "ipython",
    "version": 3
   },
   "file_extension": ".py",
   "mimetype": "text/x-python",
   "name": "python",
   "nbconvert_exporter": "python",
   "pygments_lexer": "ipython3",
   "version": "3.10.9"
  }
 },
 "nbformat": 4,
 "nbformat_minor": 5
}
