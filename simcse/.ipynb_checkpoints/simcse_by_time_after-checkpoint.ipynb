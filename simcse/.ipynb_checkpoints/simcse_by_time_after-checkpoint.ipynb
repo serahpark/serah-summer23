{
 "cells": [
  {
   "cell_type": "markdown",
   "id": "d9508da8",
   "metadata": {},
   "source": [
    "# SimCSE Analysis by time"
   ]
  },
  {
   "cell_type": "code",
   "execution_count": 1,
   "id": "e7c5e96d",
   "metadata": {},
   "outputs": [],
   "source": [
    "import pandas as pd"
   ]
  },
  {
   "cell_type": "markdown",
   "id": "fcde8df5",
   "metadata": {},
   "source": [
    "## Emails from after May 2020"
   ]
  },
  {
   "cell_type": "code",
   "execution_count": 2,
   "id": "1d9d9efd",
   "metadata": {},
   "outputs": [],
   "source": [
    "after = pd.read_csv('corpus_sample/filtered_corpus_after.csv', index_col=0)"
   ]
  },
  {
   "cell_type": "code",
   "execution_count": 3,
   "id": "519d9202",
   "metadata": {},
   "outputs": [
    {
     "data": {
      "text/html": [
       "<div>\n",
       "<style scoped>\n",
       "    .dataframe tbody tr th:only-of-type {\n",
       "        vertical-align: middle;\n",
       "    }\n",
       "\n",
       "    .dataframe tbody tr th {\n",
       "        vertical-align: top;\n",
       "    }\n",
       "\n",
       "    .dataframe thead th {\n",
       "        text-align: right;\n",
       "    }\n",
       "</style>\n",
       "<table border=\"1\" class=\"dataframe\">\n",
       "  <thead>\n",
       "    <tr style=\"text-align: right;\">\n",
       "      <th></th>\n",
       "      <th>from_name</th>\n",
       "      <th>from_address</th>\n",
       "      <th>subject</th>\n",
       "      <th>body_text</th>\n",
       "      <th>name</th>\n",
       "      <th>office_sought</th>\n",
       "      <th>party_affiliation</th>\n",
       "      <th>office_level</th>\n",
       "      <th>district_type</th>\n",
       "      <th>final_website</th>\n",
       "      <th>...</th>\n",
       "      <th>source</th>\n",
       "      <th>state</th>\n",
       "      <th>type</th>\n",
       "      <th>subtype</th>\n",
       "      <th>date</th>\n",
       "      <th>hour</th>\n",
       "      <th>day</th>\n",
       "      <th>uid_email</th>\n",
       "      <th>uid_inbox</th>\n",
       "      <th>incumbent</th>\n",
       "    </tr>\n",
       "    <tr>\n",
       "      <th>Unnamed: 0</th>\n",
       "      <th></th>\n",
       "      <th></th>\n",
       "      <th></th>\n",
       "      <th></th>\n",
       "      <th></th>\n",
       "      <th></th>\n",
       "      <th></th>\n",
       "      <th></th>\n",
       "      <th></th>\n",
       "      <th></th>\n",
       "      <th></th>\n",
       "      <th></th>\n",
       "      <th></th>\n",
       "      <th></th>\n",
       "      <th></th>\n",
       "      <th></th>\n",
       "      <th></th>\n",
       "      <th></th>\n",
       "      <th></th>\n",
       "      <th></th>\n",
       "      <th></th>\n",
       "    </tr>\n",
       "  </thead>\n",
       "  <tbody>\n",
       "    <tr>\n",
       "      <th>135581</th>\n",
       "      <td>Deborah Ross</td>\n",
       "      <td>info@deborahross.com</td>\n",
       "      <td>Memorial Day</td>\n",
       "      <td>#\\nFolks,\\nToday, we honor the fallen -- who h...</td>\n",
       "      <td>Deborah Ross</td>\n",
       "      <td>U.S. House North Carolina District 2</td>\n",
       "      <td>Democratic Party</td>\n",
       "      <td>Federal</td>\n",
       "      <td>Congress</td>\n",
       "      <td>https://deborahross.com/</td>\n",
       "      <td>...</td>\n",
       "      <td>ballotpedia-campaign</td>\n",
       "      <td>NaN</td>\n",
       "      <td>NaN</td>\n",
       "      <td>NaN</td>\n",
       "      <td>2020-05-25</td>\n",
       "      <td>10</td>\n",
       "      <td>Mon</td>\n",
       "      <td>dc0563aef870e595e0232163fe76d446</td>\n",
       "      <td>6c22fabf32ff9b33741738e7894912fb</td>\n",
       "      <td>NaN</td>\n",
       "    </tr>\n",
       "    <tr>\n",
       "      <th>88467</th>\n",
       "      <td>Tom O’Halleran</td>\n",
       "      <td>info@tomohalleran.com</td>\n",
       "      <td>Honoring our heroes today and every day</td>\n",
       "      <td>On Memorial Day, we remember those who made th...</td>\n",
       "      <td>Tom O'Halleran</td>\n",
       "      <td>U.S. House Arizona District 1</td>\n",
       "      <td>Democratic Party</td>\n",
       "      <td>Federal</td>\n",
       "      <td>Congress</td>\n",
       "      <td>https://www.tomohalleran.com/</td>\n",
       "      <td>...</td>\n",
       "      <td>ballotpedia-campaign</td>\n",
       "      <td>NaN</td>\n",
       "      <td>NaN</td>\n",
       "      <td>NaN</td>\n",
       "      <td>2020-05-25</td>\n",
       "      <td>13</td>\n",
       "      <td>Mon</td>\n",
       "      <td>6d0cac5a6c56a4242e02ad4bf8696885</td>\n",
       "      <td>a7ed20a7225cd49947b9e7511b1b497b</td>\n",
       "      <td>Yes</td>\n",
       "    </tr>\n",
       "    <tr>\n",
       "      <th>306497</th>\n",
       "      <td>Erin</td>\n",
       "      <td>erin@healyforhouse.com</td>\n",
       "      <td>Main List: Please Confirm Subscription</td>\n",
       "      <td># Stay in Touch\\n## Please Confirm Subscriptio...</td>\n",
       "      <td>Erin Healy</td>\n",
       "      <td>South Dakota House of Representatives District 14</td>\n",
       "      <td>Democratic Party</td>\n",
       "      <td>State</td>\n",
       "      <td>State Legislative (Lower)</td>\n",
       "      <td>http://healyforhouse.com/</td>\n",
       "      <td>...</td>\n",
       "      <td>ballotpedia-campaign</td>\n",
       "      <td>NaN</td>\n",
       "      <td>NaN</td>\n",
       "      <td>NaN</td>\n",
       "      <td>2020-05-25</td>\n",
       "      <td>16</td>\n",
       "      <td>Mon</td>\n",
       "      <td>1fb678ff44a6c110f18d6de4c9e3702c</td>\n",
       "      <td>ab4eeb51b96e6a9f934cc0cd6236c21b</td>\n",
       "      <td>Yes</td>\n",
       "    </tr>\n",
       "    <tr>\n",
       "      <th>306494</th>\n",
       "      <td>My Wordpress</td>\n",
       "      <td>hough.jeff@gmail.com</td>\n",
       "      <td>Submission Confirmation</td>\n",
       "      <td>Name: Alex Brown\\nEmail: [[EMAIL_REDACTED]]\\nM...</td>\n",
       "      <td>Donavan Harrington</td>\n",
       "      <td>Idaho House of Representatives District 31B</td>\n",
       "      <td>Republican Party</td>\n",
       "      <td>State</td>\n",
       "      <td>State Legislative (Lower)</td>\n",
       "      <td>http://harringtonforidaho.com/</td>\n",
       "      <td>...</td>\n",
       "      <td>ballotpedia-campaign</td>\n",
       "      <td>NaN</td>\n",
       "      <td>NaN</td>\n",
       "      <td>NaN</td>\n",
       "      <td>2020-05-25</td>\n",
       "      <td>16</td>\n",
       "      <td>Mon</td>\n",
       "      <td>e8e1d07f4dc1c1a6511d76e6721b031c</td>\n",
       "      <td>296b9c10a1adbf3f5599f72180c7ea94</td>\n",
       "      <td>No</td>\n",
       "    </tr>\n",
       "    <tr>\n",
       "      <th>137939</th>\n",
       "      <td>Elisa Martinez</td>\n",
       "      <td>info@contact.supportelisafornm.com</td>\n",
       "      <td>Honor their sacrifice</td>\n",
       "      <td>Our circumstances do not change what today is ...</td>\n",
       "      <td>Elisa Martinez</td>\n",
       "      <td>U.S. Senate New Mexico</td>\n",
       "      <td>Republican Party</td>\n",
       "      <td>Federal</td>\n",
       "      <td>State</td>\n",
       "      <td>https://www.elisafornm.com</td>\n",
       "      <td>...</td>\n",
       "      <td>ballotpedia-campaign</td>\n",
       "      <td>NaN</td>\n",
       "      <td>NaN</td>\n",
       "      <td>NaN</td>\n",
       "      <td>2020-05-25</td>\n",
       "      <td>11</td>\n",
       "      <td>Mon</td>\n",
       "      <td>3f1ff124542a647d6cd95bde99c86591</td>\n",
       "      <td>a452deeaab09ea1fff3be984adae6113</td>\n",
       "      <td>NaN</td>\n",
       "    </tr>\n",
       "    <tr>\n",
       "      <th>...</th>\n",
       "      <td>...</td>\n",
       "      <td>...</td>\n",
       "      <td>...</td>\n",
       "      <td>...</td>\n",
       "      <td>...</td>\n",
       "      <td>...</td>\n",
       "      <td>...</td>\n",
       "      <td>...</td>\n",
       "      <td>...</td>\n",
       "      <td>...</td>\n",
       "      <td>...</td>\n",
       "      <td>...</td>\n",
       "      <td>...</td>\n",
       "      <td>...</td>\n",
       "      <td>...</td>\n",
       "      <td>...</td>\n",
       "      <td>...</td>\n",
       "      <td>...</td>\n",
       "      <td>...</td>\n",
       "      <td>...</td>\n",
       "      <td>...</td>\n",
       "    </tr>\n",
       "    <tr>\n",
       "      <th>297021</th>\n",
       "      <td>Jeff Cason</td>\n",
       "      <td>jeff@jeffcason.com</td>\n",
       "      <td>POLLS ARE CLOSING SOON!!</td>\n",
       "      <td>Get there BEFORE 7PM!\\n# THE POLLS ARE ABOUT T...</td>\n",
       "      <td>Jeff Cason</td>\n",
       "      <td>Texas House of Representatives District 92</td>\n",
       "      <td>Republican Party</td>\n",
       "      <td>State</td>\n",
       "      <td>State Legislative (Lower)</td>\n",
       "      <td>https://jeffcason.com/</td>\n",
       "      <td>...</td>\n",
       "      <td>ballotpedia-campaign</td>\n",
       "      <td>NaN</td>\n",
       "      <td>NaN</td>\n",
       "      <td>NaN</td>\n",
       "      <td>2020-11-03</td>\n",
       "      <td>16</td>\n",
       "      <td>Tue</td>\n",
       "      <td>11617161d2e990ad3b319ad5d7f13060</td>\n",
       "      <td>399fc3e9deee3936ec4eec692530cd20</td>\n",
       "      <td>No</td>\n",
       "    </tr>\n",
       "    <tr>\n",
       "      <th>152572</th>\n",
       "      <td>NC House Dems</td>\n",
       "      <td>info@nchousedems.com</td>\n",
       "      <td>Election Day is Here!</td>\n",
       "      <td>Friend,\\nWow! Election day 2020 is here! Polls...</td>\n",
       "      <td>Scott Cooper</td>\n",
       "      <td>U.S. House North Carolina District 2</td>\n",
       "      <td>Democratic Party</td>\n",
       "      <td>Federal</td>\n",
       "      <td>Congress</td>\n",
       "      <td>https://cooperfornc.com/</td>\n",
       "      <td>...</td>\n",
       "      <td>ballotpedia-campaign</td>\n",
       "      <td>NaN</td>\n",
       "      <td>NaN</td>\n",
       "      <td>NaN</td>\n",
       "      <td>2020-11-03</td>\n",
       "      <td>7</td>\n",
       "      <td>Tue</td>\n",
       "      <td>485fb2d8c698cb0ca8b2a3f28fa4acc8</td>\n",
       "      <td>ab484494a4eae4a88158b6ec6fc23b96</td>\n",
       "      <td>No</td>\n",
       "    </tr>\n",
       "    <tr>\n",
       "      <th>124446</th>\n",
       "      <td>Beth Doglio</td>\n",
       "      <td>info@bethdoglio.com</td>\n",
       "      <td>Thank you for everything</td>\n",
       "      <td>Democrat Beth Doglio is running for Congress i...</td>\n",
       "      <td>Hilary Franz</td>\n",
       "      <td>Washington Commissioner of Public Lands</td>\n",
       "      <td>Democratic Party</td>\n",
       "      <td>State</td>\n",
       "      <td>State</td>\n",
       "      <td>www.hilaryfranz.com</td>\n",
       "      <td>...</td>\n",
       "      <td>ballotpedia-campaign</td>\n",
       "      <td>NaN</td>\n",
       "      <td>NaN</td>\n",
       "      <td>NaN</td>\n",
       "      <td>2020-11-03</td>\n",
       "      <td>23</td>\n",
       "      <td>Tue</td>\n",
       "      <td>43196929e7168b7d0ee24ed45f6ac254</td>\n",
       "      <td>31575e2d40a5c028fa60bff0ad4879fe</td>\n",
       "      <td>Yes</td>\n",
       "    </tr>\n",
       "    <tr>\n",
       "      <th>297331</th>\n",
       "      <td>Election Alert (via MichiganDems.com)</td>\n",
       "      <td>midemparty@michigandems.com</td>\n",
       "      <td>Polls are open (make a plan to vote)</td>\n",
       "      <td>It's Election Day, friend, and polls are offic...</td>\n",
       "      <td>Haley Stevens</td>\n",
       "      <td>U.S. House Michigan District 11</td>\n",
       "      <td>Democratic Party</td>\n",
       "      <td>Federal</td>\n",
       "      <td>Congress</td>\n",
       "      <td>haleystevensforcongress.com/</td>\n",
       "      <td>...</td>\n",
       "      <td>ballotpedia-campaign</td>\n",
       "      <td>NaN</td>\n",
       "      <td>NaN</td>\n",
       "      <td>NaN</td>\n",
       "      <td>2020-11-03</td>\n",
       "      <td>7</td>\n",
       "      <td>Tue</td>\n",
       "      <td>a9e92de4bee997c7eda28cb0f3d84b40</td>\n",
       "      <td>5f27bac71f9ec0eccae56b7529b114ab</td>\n",
       "      <td>Yes</td>\n",
       "    </tr>\n",
       "    <tr>\n",
       "      <th>298754</th>\n",
       "      <td>Betsy</td>\n",
       "      <td>staff@betsyrader4ohio.com</td>\n",
       "      <td>Thank you and action plan</td>\n",
       "      <td>Alex,\\nThank you!\\nThank you for your time, yo...</td>\n",
       "      <td>Betsy Rader</td>\n",
       "      <td>Ohio State Senate District 18</td>\n",
       "      <td>Democratic Party</td>\n",
       "      <td>State</td>\n",
       "      <td>State Legislative (Upper)</td>\n",
       "      <td>https://betsyrader4ohio.com/</td>\n",
       "      <td>...</td>\n",
       "      <td>ballotpedia-campaign</td>\n",
       "      <td>NaN</td>\n",
       "      <td>NaN</td>\n",
       "      <td>NaN</td>\n",
       "      <td>2020-11-03</td>\n",
       "      <td>10</td>\n",
       "      <td>Tue</td>\n",
       "      <td>02c637f456f2ac16026e9c0c7fb7e43c</td>\n",
       "      <td>b40ea16da90b268ab508983ed3a821c8</td>\n",
       "      <td>No</td>\n",
       "    </tr>\n",
       "  </tbody>\n",
       "</table>\n",
       "<p>84707 rows × 21 columns</p>\n",
       "</div>"
      ],
      "text/plain": [
       "                                        from_name  \\\n",
       "Unnamed: 0                                          \n",
       "135581                               Deborah Ross   \n",
       "88467                              Tom O’Halleran   \n",
       "306497                                       Erin   \n",
       "306494                               My Wordpress   \n",
       "137939                             Elisa Martinez   \n",
       "...                                           ...   \n",
       "297021                                 Jeff Cason   \n",
       "152572                              NC House Dems   \n",
       "124446                                Beth Doglio   \n",
       "297331      Election Alert (via MichiganDems.com)   \n",
       "298754                                      Betsy   \n",
       "\n",
       "                                  from_address  \\\n",
       "Unnamed: 0                                       \n",
       "135581                    info@deborahross.com   \n",
       "88467                    info@tomohalleran.com   \n",
       "306497                  erin@healyforhouse.com   \n",
       "306494                    hough.jeff@gmail.com   \n",
       "137939      info@contact.supportelisafornm.com   \n",
       "...                                        ...   \n",
       "297021                      jeff@jeffcason.com   \n",
       "152572                    info@nchousedems.com   \n",
       "124446                     info@bethdoglio.com   \n",
       "297331             midemparty@michigandems.com   \n",
       "298754               staff@betsyrader4ohio.com   \n",
       "\n",
       "                                            subject  \\\n",
       "Unnamed: 0                                            \n",
       "135581                                 Memorial Day   \n",
       "88467       Honoring our heroes today and every day   \n",
       "306497       Main List: Please Confirm Subscription   \n",
       "306494                      Submission Confirmation   \n",
       "137939                      Honor their sacrifice     \n",
       "...                                             ...   \n",
       "297021                     POLLS ARE CLOSING SOON!!   \n",
       "152572                        Election Day is Here!   \n",
       "124446                     Thank you for everything   \n",
       "297331         Polls are open (make a plan to vote)   \n",
       "298754                    Thank you and action plan   \n",
       "\n",
       "                                                    body_text  \\\n",
       "Unnamed: 0                                                      \n",
       "135581      #\\nFolks,\\nToday, we honor the fallen -- who h...   \n",
       "88467       On Memorial Day, we remember those who made th...   \n",
       "306497      # Stay in Touch\\n## Please Confirm Subscriptio...   \n",
       "306494      Name: Alex Brown\\nEmail: [[EMAIL_REDACTED]]\\nM...   \n",
       "137939      Our circumstances do not change what today is ...   \n",
       "...                                                       ...   \n",
       "297021      Get there BEFORE 7PM!\\n# THE POLLS ARE ABOUT T...   \n",
       "152572      Friend,\\nWow! Election day 2020 is here! Polls...   \n",
       "124446      Democrat Beth Doglio is running for Congress i...   \n",
       "297331      It's Election Day, friend, and polls are offic...   \n",
       "298754      Alex,\\nThank you!\\nThank you for your time, yo...   \n",
       "\n",
       "                          name  \\\n",
       "Unnamed: 0                       \n",
       "135581            Deborah Ross   \n",
       "88467           Tom O'Halleran   \n",
       "306497              Erin Healy   \n",
       "306494      Donavan Harrington   \n",
       "137939          Elisa Martinez   \n",
       "...                        ...   \n",
       "297021              Jeff Cason   \n",
       "152572            Scott Cooper   \n",
       "124446            Hilary Franz   \n",
       "297331           Haley Stevens   \n",
       "298754             Betsy Rader   \n",
       "\n",
       "                                                office_sought  \\\n",
       "Unnamed: 0                                                      \n",
       "135581                   U.S. House North Carolina District 2   \n",
       "88467                           U.S. House Arizona District 1   \n",
       "306497      South Dakota House of Representatives District 14   \n",
       "306494            Idaho House of Representatives District 31B   \n",
       "137939                                 U.S. Senate New Mexico   \n",
       "...                                                       ...   \n",
       "297021             Texas House of Representatives District 92   \n",
       "152572                   U.S. House North Carolina District 2   \n",
       "124446                Washington Commissioner of Public Lands   \n",
       "297331                        U.S. House Michigan District 11   \n",
       "298754                          Ohio State Senate District 18   \n",
       "\n",
       "           party_affiliation office_level              district_type  \\\n",
       "Unnamed: 0                                                             \n",
       "135581      Democratic Party      Federal                   Congress   \n",
       "88467       Democratic Party      Federal                   Congress   \n",
       "306497      Democratic Party        State  State Legislative (Lower)   \n",
       "306494      Republican Party        State  State Legislative (Lower)   \n",
       "137939      Republican Party      Federal                      State   \n",
       "...                      ...          ...                        ...   \n",
       "297021      Republican Party        State  State Legislative (Lower)   \n",
       "152572      Democratic Party      Federal                   Congress   \n",
       "124446      Democratic Party        State                      State   \n",
       "297331      Democratic Party      Federal                   Congress   \n",
       "298754      Democratic Party        State  State Legislative (Upper)   \n",
       "\n",
       "                             final_website  ...                source state  \\\n",
       "Unnamed: 0                                  ...                               \n",
       "135581            https://deborahross.com/  ...  ballotpedia-campaign   NaN   \n",
       "88467        https://www.tomohalleran.com/  ...  ballotpedia-campaign   NaN   \n",
       "306497           http://healyforhouse.com/  ...  ballotpedia-campaign   NaN   \n",
       "306494      http://harringtonforidaho.com/  ...  ballotpedia-campaign   NaN   \n",
       "137939          https://www.elisafornm.com  ...  ballotpedia-campaign   NaN   \n",
       "...                                    ...  ...                   ...   ...   \n",
       "297021              https://jeffcason.com/  ...  ballotpedia-campaign   NaN   \n",
       "152572            https://cooperfornc.com/  ...  ballotpedia-campaign   NaN   \n",
       "124446                 www.hilaryfranz.com  ...  ballotpedia-campaign   NaN   \n",
       "297331        haleystevensforcongress.com/  ...  ballotpedia-campaign   NaN   \n",
       "298754        https://betsyrader4ohio.com/  ...  ballotpedia-campaign   NaN   \n",
       "\n",
       "            type  subtype        date hour  day  \\\n",
       "Unnamed: 0                                        \n",
       "135581       NaN      NaN  2020-05-25   10  Mon   \n",
       "88467        NaN      NaN  2020-05-25   13  Mon   \n",
       "306497       NaN      NaN  2020-05-25   16  Mon   \n",
       "306494       NaN      NaN  2020-05-25   16  Mon   \n",
       "137939       NaN      NaN  2020-05-25   11  Mon   \n",
       "...          ...      ...         ...  ...  ...   \n",
       "297021       NaN      NaN  2020-11-03   16  Tue   \n",
       "152572       NaN      NaN  2020-11-03    7  Tue   \n",
       "124446       NaN      NaN  2020-11-03   23  Tue   \n",
       "297331       NaN      NaN  2020-11-03    7  Tue   \n",
       "298754       NaN      NaN  2020-11-03   10  Tue   \n",
       "\n",
       "                                   uid_email  \\\n",
       "Unnamed: 0                                     \n",
       "135581      dc0563aef870e595e0232163fe76d446   \n",
       "88467       6d0cac5a6c56a4242e02ad4bf8696885   \n",
       "306497      1fb678ff44a6c110f18d6de4c9e3702c   \n",
       "306494      e8e1d07f4dc1c1a6511d76e6721b031c   \n",
       "137939      3f1ff124542a647d6cd95bde99c86591   \n",
       "...                                      ...   \n",
       "297021      11617161d2e990ad3b319ad5d7f13060   \n",
       "152572      485fb2d8c698cb0ca8b2a3f28fa4acc8   \n",
       "124446      43196929e7168b7d0ee24ed45f6ac254   \n",
       "297331      a9e92de4bee997c7eda28cb0f3d84b40   \n",
       "298754      02c637f456f2ac16026e9c0c7fb7e43c   \n",
       "\n",
       "                                   uid_inbox incumbent  \n",
       "Unnamed: 0                                              \n",
       "135581      6c22fabf32ff9b33741738e7894912fb       NaN  \n",
       "88467       a7ed20a7225cd49947b9e7511b1b497b       Yes  \n",
       "306497      ab4eeb51b96e6a9f934cc0cd6236c21b       Yes  \n",
       "306494      296b9c10a1adbf3f5599f72180c7ea94        No  \n",
       "137939      a452deeaab09ea1fff3be984adae6113       NaN  \n",
       "...                                      ...       ...  \n",
       "297021      399fc3e9deee3936ec4eec692530cd20        No  \n",
       "152572      ab484494a4eae4a88158b6ec6fc23b96        No  \n",
       "124446      31575e2d40a5c028fa60bff0ad4879fe       Yes  \n",
       "297331      5f27bac71f9ec0eccae56b7529b114ab       Yes  \n",
       "298754      b40ea16da90b268ab508983ed3a821c8        No  \n",
       "\n",
       "[84707 rows x 21 columns]"
      ]
     },
     "execution_count": 3,
     "metadata": {},
     "output_type": "execute_result"
    }
   ],
   "source": [
    "after.sort_values('date')"
   ]
  },
  {
   "cell_type": "code",
   "execution_count": 4,
   "id": "d11d7aac",
   "metadata": {},
   "outputs": [
    {
     "name": "stderr",
     "output_type": "stream",
     "text": [
      "07/19/2023 13:05:50 - INFO - torch.distributed.nn.jit.instantiator -   Created a temporary directory at /tmp/tmpi8foxay8\n",
      "07/19/2023 13:05:50 - INFO - torch.distributed.nn.jit.instantiator -   Writing /tmp/tmpi8foxay8/_remote_module_non_scriptable.py\n",
      "07/19/2023 13:05:52 - INFO - faiss.loader -   Loading faiss with AVX2 support.\n",
      "07/19/2023 13:05:52 - INFO - faiss.loader -   Could not load library with AVX2 support due to:\n",
      "ModuleNotFoundError(\"No module named 'faiss.swigfaiss_avx2'\")\n",
      "07/19/2023 13:05:52 - INFO - faiss.loader -   Loading faiss.\n",
      "07/19/2023 13:05:52 - INFO - faiss.loader -   Successfully loaded faiss.\n",
      "07/19/2023 13:05:52 - INFO - simcse.tool -   Encoding embeddings for sentences...\n",
      "100%|█████████████████████████████████████████████████████████████████| 1324/1324 [07:37<00:00,  2.89it/s]\n",
      "07/19/2023 13:13:35 - INFO - simcse.tool -   Building index...\n",
      "07/19/2023 13:13:35 - INFO - simcse.tool -   Use GPU-version faiss\n",
      "07/19/2023 13:13:36 - INFO - simcse.tool -   Finished\n"
     ]
    }
   ],
   "source": [
    "from simcse import SimCSE\n",
    "from encode import *"
   ]
  },
  {
   "cell_type": "markdown",
   "id": "ed4b71fc",
   "metadata": {},
   "source": [
    "With higher thresholds, we can look at the same seed sentences for this data:"
   ]
  },
  {
   "cell_type": "code",
   "execution_count": 5,
   "id": "bd45c55e",
   "metadata": {
    "scrolled": true
   },
   "outputs": [
    {
     "name": "stderr",
     "output_type": "stream",
     "text": [
      "100%|███████████████████████████████████████████████████████████████████████| 1/1 [00:00<00:00, 49.76it/s]\n"
     ]
    },
    {
     "data": {
      "text/plain": [
       "{('31520', '34780', '53474', '56778', '57212', '66512')}"
      ]
     },
     "execution_count": 5,
     "metadata": {},
     "output_type": "execute_result"
    }
   ],
   "source": [
    "very_similar(['We need to defund the police.'], 0.65)"
   ]
  },
  {
   "cell_type": "markdown",
   "id": "a65904a6",
   "metadata": {},
   "source": [
    "Interestingly, more of our results are providing opposing emails."
   ]
  },
  {
   "cell_type": "code",
   "execution_count": 6,
   "id": "860ba136",
   "metadata": {
    "scrolled": true
   },
   "outputs": [
    {
     "name": "stdout",
     "output_type": "stream",
     "text": [
      "Our country is facing a crossroads. The far-left extremists are calling to defund the police at a time when they need us most. The far-left simply doe\n",
      "Image\n",
      "Friend,\n",
      "Our country is facing a crossroads. The far-left extremists are calling to defund the police at a time when they need us most. The far-left simply does not understand.\n",
      "They are threatening our law enforcement heroes in Bucks and Montgomery Counties and across our nation who protect us and keep us safe.\n",
      "Defunding our police isn’t the answer.\n",
      "Our communities need the police, they should be fully funded, and they deserve our utmost respect. This is why Brian has been working on bipartisan legislation to support our men and women in law enforcement, who put their lives on the line on a daily basis.\n",
      "Stand with Brian and support our police!\n",
      "Our community doesn’t want the far-left extremist “defund the police” policy, which would leave our communities open to a drastic increase in crime.\n",
      "This just isn’t acceptable.\n",
      "Sign our petition today to stand with Brian and say NO to defunding the police!\n",
      "Sign Now\n",
      "Thanks,\n",
      "Team Fitzpatrick\n",
      "Paid for by Brian Fitzpatrick for Congress\n",
      "Brian Fitzpatrick for Congress\n",
      "PO Box 939\n",
      "Langhorne, PA 19047\n",
      "This email is sent to [[EMAIL_REDACTED]] by Brian Fitzpatrick for Congress. To unsubscribe from future emails use this link.\n",
      "Privacy Policy\n",
      "\\- - - - - - - - - - - - - - - - - - - - - - - -#53474\n"
     ]
    }
   ],
   "source": [
    "print(all_texts[53474])"
   ]
  },
  {
   "cell_type": "code",
   "execution_count": 7,
   "id": "e24b065a",
   "metadata": {
    "scrolled": true
   },
   "outputs": [
    {
     "name": "stdout",
     "output_type": "stream",
     "text": [
      "Taking resources away from local police who serve honorably to protect us is just NOT the answer. This puts Americans in harm’s way, and I am committed to speaking out for YOUR for your safety. Join me and add your name to the Official Petition today.\n",
      "Don't want to receive emails anymore? Unsubscribe here.\n",
      "McSally for Senate\n",
      "Friend,\n",
      "The murder of George Floyd was horrific, and those police officers deserve to be met with swift justice. However, in the pursuit of justice, we cannot sacrifice the safety of millions of Americans. Democrats’ radical calls to defund the police are dangerous and irresponsible. Will you add your name and stand with me against the Left’s dangerous platform?\n",
      "Our citizens and communities should not be left without the protection of their local police. Democrats are already moving to disband local police and slash their funding!\n",
      "This puts Americans in harm’s way, and I am committed to speaking out for YOUR for your safety. Join me and add your name to the Official Petition today.\n",
      "The events leading to George Floyd’s death are inconsistent with the values expected from law enforcement, and consequences should be met. But taking resources away from local police who serve honorably to protect us is just NOT the answer. Add your name to our petition today if you stand with me.\n",
      "In Service\n",
      "Martha McSally\n",
      "SIGN THE PETITION\n",
      "Paid for by McSally for Senate, Inc.\n",
      "5080 NORTH 40TH ST, SUITE 265\n",
      "PHOENIX, AZ 85032\n",
      "Don't want to receive emails anymore? Unsubscribe here.\n",
      "You can also view our privacy policy here.#34780\n"
     ]
    }
   ],
   "source": [
    "print(all_texts[34780])"
   ]
  },
  {
   "cell_type": "code",
   "execution_count": 8,
   "id": "a79b1781",
   "metadata": {},
   "outputs": [
    {
     "name": "stderr",
     "output_type": "stream",
     "text": [
      "100%|███████████████████████████████████████████████████████████████████████| 1/1 [00:00<00:00, 39.50it/s]\n"
     ]
    },
    {
     "data": {
      "text/plain": [
       "{('35728', '49937', '56778', '65127')}"
      ]
     },
     "execution_count": 8,
     "metadata": {},
     "output_type": "execute_result"
    }
   ],
   "source": [
    "very_similar(['We need to crack down on crime.'], 0.6)"
   ]
  },
  {
   "cell_type": "code",
   "execution_count": 16,
   "id": "5eb9d073",
   "metadata": {
    "scrolled": true
   },
   "outputs": [
    {
     "name": "stdout",
     "output_type": "stream",
     "text": [
      "View this email in your browser\n",
      "# Enough is enough!\n",
      "Across the country we’re seeing riots run rampant. Our country’s heritage is being vandalized and destroyed. Stores are being looted. The police are under attack. Crime is on the rise. Anarchy reigns and those on the left don’t want to address any of it.\n",
      "We need leaders who will stand up and say enough is enough! That’s why as a senator I plan to introduce legislation to make these acts of domestic terrorism a federal crime with a mandatory 10-year prison sentence. We need to get tough on these crimes and we need laws in place that show that we mean business when we say enough is enough.\n",
      "As a country we cannot sit idly by and let our heritage be destroyed, our police get attacked and anarchists who want to destroy capitalism riot daily. We need to make sure that those who seek to destroy us know that we won’t let them!\n",
      "Join me in saying ENOUGH IS ENOUGH!\n",
      "Dave\n",
      "P.S. – Please help me get my message out to all Kansans that enough is enough. Click on the logo below to find out how.\n",
      "Twitter\n",
      "Facebook\n",
      "Website\n",
      "Copyright © 2020 Lindstrom for Senate, All rights reserved.\n",
      "You are receiving this email because you we thought you'd like to know more about the campaign.\n",
      "Our mailing address is:\n",
      "Lindstrom for Senate\n",
      "1310A Westloop Pl # 353\n",
      "Manhattan, KS 66502-2842\n",
      "Add us to your address book\n",
      "Want to change how you receive these emails?\n",
      "You can update your preferences or unsubscribe from this list.#35728\n"
     ]
    }
   ],
   "source": [
    "print(all_texts[35728])"
   ]
  },
  {
   "cell_type": "code",
   "execution_count": 9,
   "id": "1b36fea3",
   "metadata": {
    "scrolled": true
   },
   "outputs": [
    {
     "name": "stdout",
     "output_type": "stream",
     "text": [
      "Progress Texas\n",
      "## Don't miss out, follow us!\n",
      "June 5th, 2020\n",
      "# Texas laws should prioritize the safety of people instead of protecting cops who brutalize communities\n",
      "Laws across the U.S. regularly protect police from facing consequences when they abuse their power, especially against Black Americans. Texas has a particularly shameful history of police brutality and racism, and too often, our laws protect police instead of Black and Brown Texans.\n",
      "We need to end the legal protections that give police the freedom to continue acting as if Texans are enemy combatants in a warzone. We must demand justice and reform. Now.\n",
      "READ More\n",
      "# More Progress\n",
      "Join us today at noon on Facebook Live for a candid conversation with Texas Senate candidate Sara Stapleton-Barrera on her ongoing campaign, racism in the RGV, leadership during the COVID-19 pandemic, & more!\n",
      "Conservative lawmakers have spent the past few days condemning “protest violence”, completely deflecting from the real issue: systematic police violence and racism in our state. The record needs to be set straight so we can hold police accountable and protect Black Texans.\n",
      "When the global pandemic hit, Gov. Abbott and Indicted-AG Paxton tried banning abortions. They failed. But, as Texas reopens, we have a long way to go if we want to ensure that every Texan has control over their reproductive rights.\n",
      "When the global pandemic hit, Gov. Abbott and indicted-AG Paxton tried blocking abortion. They failed. But, as Texas reopens, we have a long way to go if we want to ensure that every Texan has access to abortion care.\n",
      "Over the past few days, thousands of Americans have taken to the streets to fight police brutality against Black Americans. In addition to protesting, there are many other ways to get involved in this movement, and one of those is to support Black-founded and Black-led organizations that have been doing this work all along.\n",
      "# We're Keeping an Eye On...\n",
      "✊🏿 Criminal Justice: Whether it’s a pandemic or a natural disaster, calamities have an adverse impact on communities of color. As we fight to curb police violence against communities, we must also fight to reform all systems of oppression. (Dallas Morning News)\n",
      "🤬 Cruz, Cornyn, and Cronies: It should be no surprise that Senators Cruz and Cornyn, along with many other GOP leaders, stood with Trump as he tear-gassed peaceful protestors so he could take a photo in front of a church he has never attended, holding a book he has never read. Trump and his enablers need to go. (The Washington Post)\n",
      "💵 Unemployment Relief: In a rare ray of light, Texas unemployment benefits will be extended for an additional 13 weeks, allowing those worst impacted by the pandemic more time to recover. (KVUE)\n",
      "# high five\n",
      "K Pop does solidarity right!\n",
      "K Pop does solidarity right!\n",
      "Saatvik Ahluwalia\n",
      "SAATVIK AHLUWALIA\n",
      "Digital Strategist\n",
      "@saatvik1989\n",
      "Donate\n",
      "Progress Texas\n",
      "Progress Texas\n",
      "[[URL REDACTED]] | 512.730.0819\n",
      "©2019 Progress Texas. All rights reserved.\n",
      "You can unsubscribe from this mailing list at any time.\n",
      "If you were forwarded this newsletter and you like it, you can\n",
      "Subscribe#49937\n"
     ]
    }
   ],
   "source": [
    "print(all_texts[49937])"
   ]
  },
  {
   "cell_type": "code",
   "execution_count": 10,
   "id": "7e97ee11",
   "metadata": {},
   "outputs": [
    {
     "name": "stderr",
     "output_type": "stream",
     "text": [
      "100%|███████████████████████████████████████████████████████████████████████| 1/1 [00:00<00:00, 55.52it/s]\n"
     ]
    },
    {
     "data": {
      "text/plain": [
       "{('15471',\n",
       "  '27087',\n",
       "  '56329',\n",
       "  '62088',\n",
       "  '68431',\n",
       "  '70264',\n",
       "  '7449',\n",
       "  '7456',\n",
       "  '7469',\n",
       "  '7503')}"
      ]
     },
     "execution_count": 10,
     "metadata": {},
     "output_type": "execute_result"
    }
   ],
   "source": [
    "very_similar(['Our cities are rampant with crime'], 0.5)"
   ]
  },
  {
   "cell_type": "code",
   "execution_count": 11,
   "id": "db0190f2",
   "metadata": {
    "scrolled": true
   },
   "outputs": [
    {
     "name": "stdout",
     "output_type": "stream",
     "text": [
      "Dear Friend,\n",
      "From Seattle, to Chicago, and now too close to home in Columbus, we have seen how dangerous things can get when the radical left is allowed to take off with their ideas that end up with violence.\n",
      "Even more disturbing, the Columbus, Ohio homicide rate is on record pace in 2020, on track to being the most violent year in the city's history.\n",
      "Please chip in today to help me keep fighting to keep our neighborhoods safe.\n",
      "Every day in cities across America, children and families are caught in violent crossfire. The communities who rely on the police to keep them safe are at risk because of the Mayor’s liberal-leaning political agenda.\n",
      "This is lawlessness at its worst and we cannot let it stand. If city officials choose to abolish the police, the most vulnerable communities will be left behind.\n",
      "The radical left is so unwilling to compromise or hear the other side of an argument before rushing to judgment.\n",
      "I am committed to working towards solutions that help heal our communities in the safest way possible from the ground up, and I cannot do it without your help.\n",
      "Make A Donation Today\n",
      "Request a Yard Sign\n",
      "Sincerely,\n",
      "Facebook    Twitter    Instagram\n",
      "Balderson for Congress | 2931 E. Dublin Granville Rd., Suite 190, Columbus,\n",
      "Columbus, OH 43231\n",
      "Unsubscribe [[EMAIL_REDACTED]]\n",
      "Update Profile | About our service provider\n",
      "Sent by [[URL REDACTED]] powered by\n",
      "Trusted Email from Constant Contact - Try it FREE today.\n",
      "Try email marketing for free today!#70264\n"
     ]
    }
   ],
   "source": [
    "print(all_texts[70264])"
   ]
  },
  {
   "cell_type": "code",
   "execution_count": 12,
   "id": "ebfd6051",
   "metadata": {
    "scrolled": true
   },
   "outputs": [
    {
     "name": "stdout",
     "output_type": "stream",
     "text": [
      "Fellow conservative,\n",
      "For weeks, we have seen absolute destruction run rampant in the streets of America.\n",
      "President Trump is fighting for Law and Order to be restored, but his Democratic adversaries seem to WELCOME this lawlessness!\n",
      "But the lawlessness and unchecked crime goes beyond the riots from groups like ANTIFA, and into violence and even MURDER.\n",
      "A recent analysis showed that in the nation’s 50 largest cities (mostly run by Liberal Democrats, of course), reported homicides were up 24% so far this year!\n",
      "DEMAND LAW AND ORDER\n",
      "If the Democrats can’t even maintain control of their cities and states, why on earth would we want to trust them with the nation?\n",
      "If Joe Biden were to win, DEFUNDING THE POLICE and allowing violent rioters to control the narrative and policies would take center stage.\n",
      "We need someone who is unafraid to stand up to the Liberal mob — WE NEED PRESIDENT TRUMP!\n",
      "Take a stand before midnight to show that President Trump has your support and that you demand Law and Order in the streets of America! >>\n",
      "Time is ticking! President Trump needs to know that his Law and Order initiative has your support!\n",
      "Thank you for your support,\n",
      "Survey Team\n",
      "America First Action\n",
      "The Official Pro-Trump Super PAC\n",
      "America First Action is dedicated to supporting President Trump and ensuring he is reelected in November.\n",
      "President Trump\n",
      "As the only Official Pro-Trump Super PAC, we and thousands of grassroots activists are focused on creating a country that is prosperous, safe, strong, and puts American values first. Countless opportunities await us. Let’s win together!\n",
      "Conservative activists like YOU are needed to join our official Team Trump movement. Will you take a stand NOW? >>\n",
      "JOIN TEAM TRUMP\n",
      "Top Patriots like you keep us going. Will you make a small contribution to support America First Action here? [[URL REDACTED]]\n",
      "Thank you again for your time and generous support.\n",
      "\\- America First Action Team\n",
      "This email was sent to [[EMAIL_REDACTED]]. If you would like to unsubscribe, click here.\n",
      "Contributions to America First Action are not deductible for federal income tax purposes.\n",
      "Paid for by America First Action. Not authorized by any candidate or candidate’s committee. [[URL REDACTED]]\n",
      "America First Action, Inc., P.O. Box 16652, Arlington, VA 22215#7456\n"
     ]
    }
   ],
   "source": [
    "print(all_texts[7456])"
   ]
  },
  {
   "cell_type": "code",
   "execution_count": 13,
   "id": "3dde2bfb",
   "metadata": {
    "scrolled": true
   },
   "outputs": [
    {
     "name": "stdout",
     "output_type": "stream",
     "text": [
      "homicides are up by double-digits in major cities across America this year – and it’s a wake-up call that our country can’t afford the Left’s agenda\n",
      "Claudia for Congress\n",
      "Friend,\n",
      "This year has devastated so many communities across America, and the situation is only being made worse by Democrats who are terrified of facing the facts about their failed leadership.\n",
      "We need to address what’s going on in our major cities right now.\n",
      "* Homicides have risen by double-digits in 36 out of America’s 50 largest cities so far this year.\n",
      "* Recent polls show that 77% of Americans are concerned about rising crime in our cities.\n",
      "Democrats know why this is happening, but they’ll never admit that they’re the reason!\n",
      "The Left’s radical crusade against law enforcement is taking a devastating toll on lives and communities across our country, and it will only get worse if we don’t stand up to their anti-police agenda before it’s too late.\n",
      "CHIP IN TO RESTORE LAW & ORDER THIS NOVEMBER\n",
      "Our men and women in blue are watching our communities fall apart right now, and they’re calling for backup from Washington – but Democrats like Anthony Brindisi refuse to answer the call!\n",
      "That’s because Brindisi is more loyal to Pelosi than he is to our police departments, our district, and even the voters who supported him in 2018!\n",
      "That’s why the New York State Troopers PBA just endorsed our campaign. They’re sick and tired of being abandoned by Congress, and they’re counting on us to change that.\n",
      "CHIP IN TO RESTORE LAW & ORDER THIS NOVEMBER\n",
      "Thank you,\n",
      "Claudia Tenney\n",
      "Paid for by Claudia for Congress\n",
      "PO Box 244 Clinton, NY 13323\n",
      "This email was sent to [[EMAIL_REDACTED]]\n",
      "Unsubscribe\n",
      "By law the maximum amount an individual may contribute is $2,800 for the primary and $2,800 for the general election. Federal law requires us to obtain and report the name, mailing address, occupation and name of employer for each individual whose contributions aggregate in excess of $200 per election cycle. By clicking “Donate Now\" I certify that the following statements are true and accurate: I am at least 18 years old, this contribution is made from my personal credit or debit card with my own personal funds and is not made from the general treasury funds of a corporation, labor organization, national bank, or entity or person that is a federal contractor, and I will not be reimbursed for this contribution by another person. I am a U.S. citizen or a lawfully admitted permanent resident, and I am not a foreign national or a federal contractor. Contributions are not tax deductible as charitable contributions for federal income tax purposes. Funds received are subject to federal limits and source prohibitions. Contributions by corporations, national banks, foreign nationals (non-green card holders), labor unions, federal government contractors, and minors under the age of 18 are prohibited. © 2017 By subscribing with your mobile number you are agreeing to receive periodic text messages from Claudia Tenney for Congress. Text message and/or data rates may apply. Text \"STOP\" to opt-out.#56329\n"
     ]
    }
   ],
   "source": [
    "print(all_texts[56329])"
   ]
  },
  {
   "cell_type": "code",
   "execution_count": 14,
   "id": "73ec9877",
   "metadata": {},
   "outputs": [
    {
     "name": "stderr",
     "output_type": "stream",
     "text": [
      "100%|███████████████████████████████████████████████████████████████████████| 1/1 [00:00<00:00, 57.37it/s]\n"
     ]
    },
    {
     "data": {
      "text/plain": [
       "{('14959',\n",
       "  '17070',\n",
       "  '27076',\n",
       "  '34566',\n",
       "  '34647',\n",
       "  '34732',\n",
       "  '56462',\n",
       "  '57286',\n",
       "  '7459',\n",
       "  '7467')}"
      ]
     },
     "execution_count": 14,
     "metadata": {},
     "output_type": "execute_result"
    }
   ],
   "source": [
    "very_similar(['The left wants to decriminalize marijuana'], 0.5)"
   ]
  },
  {
   "cell_type": "code",
   "execution_count": 15,
   "id": "dea73a1f",
   "metadata": {
    "scrolled": true
   },
   "outputs": [
    {
     "name": "stdout",
     "output_type": "stream",
     "text": [
      "Abolish the Police?\n",
      "No images? Click here\n",
      "Chabot for Congress\n",
      "Steve's Weekly Blog\n",
      "### The Left Now Wants to Abolish the Police\n",
      "Over the last week, those on the left, and their sympathizers in the mainstream media, have ramped up their radical demand to abolish, defund, dismantle, and even outright ban police departments. In this week’s blog, I’ll discuss whether reforming law enforcement is warranted. And whether defunding/dismantling police departments is the solution. (Spoiler alert - it’s not.)\n",
      "Read this entry >>\n",
      "# Previous Blog Posts\n",
      "### A One-Two Punch\n",
      "This past week has been a particular challenging time in our nation's history. A Minneapolis police officer knelt on the neck of an unarmed African-American man named George Floyd, and while the world watched, his life was unnecessarily taken away. Condemnation of the officer’s action has been universal. There’s no excuse for what this officer did.\n",
      "Protests have arisen in cities all over America, peaceful gatherings that are no doubt our constitutional right. Unfortunately, these protests have been sullied by violence and looting. In this week's blog, I discuss this turmoil and offer some words of hope.\n",
      "Read this entry >>\n",
      "### Trump vs Biden\n",
      "In this week's blog post I discuss the state of the presidential campaign between President Trump and Joe Biden. How has the coronavirus pandemic changed the race? Who do I think will win? And, why is Biden hunkered down in his basement?\n",
      "Read this entry >>\n",
      "### A Missed Opportunity\n",
      "Nancy Pelosi‘s House of Representatives got together last week to vote on legislation crafted by the Democrats - without input from the Republicans. In this week's blog, I discuss this \"messaging\" bill, which does nothing to help cope with the coronavirus challenge and has no chance at becoming law.\n",
      "Read this entry >>\n",
      "Donate\n",
      "Get a Yard Sign\n",
      "Powered by Right Turn Design\n",
      "FacebookTwitterYouTube\n",
      "Chabot for Congress, P.O. Box 54461, Cincinnati, OH 45254\n",
      "You are receiving this email because of your connection to our cause. If you receive this email in error, please use the unsubscribe link below and remove yourself from future mailings.\n",
      "Share\n",
      "Tweet\n",
      "Forward\n",
      "Preferences | Unsubscribe#14959\n"
     ]
    }
   ],
   "source": [
    "print(all_texts[14959])"
   ]
  },
  {
   "cell_type": "code",
   "execution_count": 16,
   "id": "c323a157",
   "metadata": {
    "scrolled": true
   },
   "outputs": [
    {
     "name": "stdout",
     "output_type": "stream",
     "text": [
      "We need you to be the voice of Vermont -- take our survey now!\n",
      "Our Democratic House Majority is on the brink of a major victory for criminal justice reform -- they just announced a historic vote!\n",
      "POLITICO: House set to vote on marijuana legalization. The Marijuana Opportunity Reinvestment and Expungement \\(MORE\\) Act would... Remove marijuana from the federal controlled substances list. Expunge prior marijuana convictions & arrests. Create grant programs for those impacted by the 'war on drugs'\n",
      "Before this bill goes to a vote, we need to know: do you support decriminalizing marijuana?\n",
      "Yes →\n",
      "Unsure →\n",
      "No →\n",
      "We can’t overstate how monumental this bill would be.\n",
      "Decriminalizing marijuana is essential for criminal justice reform -- while Black and white people use marijuana at similar rates, Black folks are almost 4x more likely to be arrested for possession.\n",
      "Individual states have blazed a trail -- but now that it’s approaching the federal level, we’re launching our two-minute national strategic survey to find out what Democrats across the country think.\n",
      "We need you to be the voice of Vermont -- take our survey now!\n",
      "Take the survey →\n",
      "\\-- Hold the House\n",
      "If you'd like to support Hold the House PAC, you can click here to make a donation.\n",
      "We believe that emails are the best way for our campaign to stay in touch with supporters like you. But if you'd like to receive fewer emails, you can click here.\n",
      "If you’d like to unsubscribe from all our emails, click here.\n",
      "Paid for by Hold the House PAC#17070\n"
     ]
    }
   ],
   "source": [
    "print(all_texts[17070])"
   ]
  },
  {
   "cell_type": "markdown",
   "id": "491f8668",
   "metadata": {},
   "source": [
    "# Extension of SimCSE"
   ]
  },
  {
   "cell_type": "markdown",
   "id": "23679c1b",
   "metadata": {},
   "source": [
    "* Potentially refine it further by extracting emails from each party or referencing different events or time periods\n",
    "* Experimenting with different seeds, using sentences/opinions found from any of these emails, news or other sources\n",
    "* Looking at specific candidates"
   ]
  },
  {
   "cell_type": "code",
   "execution_count": null,
   "id": "be6eda0a",
   "metadata": {},
   "outputs": [],
   "source": []
  }
 ],
 "metadata": {
  "kernelspec": {
   "display_name": "Python 3 (ipykernel)",
   "language": "python",
   "name": "python3"
  },
  "language_info": {
   "codemirror_mode": {
    "name": "ipython",
    "version": 3
   },
   "file_extension": ".py",
   "mimetype": "text/x-python",
   "name": "python",
   "nbconvert_exporter": "python",
   "pygments_lexer": "ipython3",
   "version": "3.9.16"
  }
 },
 "nbformat": 4,
 "nbformat_minor": 5
}
