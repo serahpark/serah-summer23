{
 "cells": [
  {
   "cell_type": "markdown",
   "id": "c81865b8",
   "metadata": {},
   "source": [
    "# Filter Corpus for Primary Candidates\n",
    "We want to filter out Political Action Committees (PACs) as well as political candidates for state races from our original corpus, `~/../data/princeton_emails/corpus_v1.0.csv`. We do this by filtering for emails with empty `type` (which is only assigned to PACs) and `Federal` for `office_level` to yield `p"
   ]
  },
  {
   "cell_type": "code",
   "execution_count": 1,
   "id": "3da2ad0e",
   "metadata": {},
   "outputs": [],
   "source": [
    "import pandas as pd\n",
    "pd.set_option('display.max_rows', None)"
   ]
  },
  {
   "cell_type": "code",
   "execution_count": 2,
   "id": "44d35132",
   "metadata": {},
   "outputs": [],
   "source": [
    "df = pd.read_csv(\"~/../data/princeton_emails/corpus_v1.0.csv\", low_memory=False)"
   ]
  },
  {
   "cell_type": "code",
   "execution_count": 3,
   "id": "ee21d97c",
   "metadata": {},
   "outputs": [],
   "source": [
    "df = df.loc[(df['type'].isna()) & (df['office_level'] == 'Federal')]"
   ]
  },
  {
   "cell_type": "code",
   "execution_count": 4,
   "id": "3ac913b4",
   "metadata": {},
   "outputs": [],
   "source": [
    "df.to_csv('primary_candidates_corpus.csv')"
   ]
  },
  {
   "cell_type": "code",
   "execution_count": 5,
   "id": "53ff7179",
   "metadata": {},
   "outputs": [
    {
     "data": {
      "text/plain": [
       "170219"
      ]
     },
     "execution_count": 5,
     "metadata": {},
     "output_type": "execute_result"
    }
   ],
   "source": [
    "len(df)"
   ]
  }
 ],
 "metadata": {
  "kernelspec": {
   "display_name": "Python 3 (ipykernel)",
   "language": "python",
   "name": "python3"
  },
  "language_info": {
   "codemirror_mode": {
    "name": "ipython",
    "version": 3
   },
   "file_extension": ".py",
   "mimetype": "text/x-python",
   "name": "python",
   "nbconvert_exporter": "python",
   "pygments_lexer": "ipython3",
   "version": "3.10.9"
  }
 },
 "nbformat": 4,
 "nbformat_minor": 5
}
