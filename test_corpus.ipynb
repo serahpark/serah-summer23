{
 "cells": [
  {
   "cell_type": "code",
   "execution_count": 14,
   "id": "d33949d0",
   "metadata": {},
   "outputs": [
    {
     "name": "stdout",
     "output_type": "stream",
     "text": [
      "loaded LDA model, corpus, and dictionary\n"
     ]
    }
   ],
   "source": [
    "import pandas as pd\n",
    "from gensim.test.utils import datapath\n",
    "from gensim.models import LdaModel\n",
    "import pickle\n",
    "# load corpus and dictionary\n",
    "with open(\"pickle/0627_model\", \"rb\") as m:\n",
    "    model = pickle.load(m)\n",
    "# with open(\"pickle/0628_corpus\", \"rb\") as c:\n",
    "#     corpus = pickle.load(c)\n",
    "with open(\"pickle/0628_dictionary\", \"rb\") as d:\n",
    "    dictionary = pickle.load(d)   \n",
    "print(\"loaded LDA model, corpus, and dictionary\")\n",
    "\n",
    "# read corpus to include the email ID\n",
    "with open(\"pickle/0628_df\", \"rb\") as f:\n",
    "    df = pickle.load(f)"
   ]
  },
  {
   "cell_type": "code",
   "execution_count": 2,
   "id": "afbb4da0",
   "metadata": {},
   "outputs": [],
   "source": [
    "word_list = [[\n",
    "    \"Abortion rights\",\n",
    "    \"Pro-choice\",\n",
    "    \"Reproductive freedom\",\n",
    "    \"Women's health\",\n",
    "    \"Pregnancy termination\",\n",
    "    \"Fetal viability\",\n",
    "    \"Pro-life\",\n",
    "    \"Abortion debate\",\n",
    "    \"Roe v. Wade\",\n",
    "    \"Supreme Court\",\n",
    "    \"Constitutional rights\",\n",
    "    \"Reproductive justice\",\n",
    "    \"Access to abortion\",\n",
    "    \"Abortion clinics\",\n",
    "    \"Anti-abortion\",\n",
    "    \"Women's autonomy\",\n",
    "    \"Planned Parenthood\",\n",
    "    \"Abortion restrictions\",\n",
    "    \"Abortion laws\",\n",
    "    \"Abortion access\",\n",
    "    \"Abortion providers\",\n",
    "    \"Parental consent\",\n",
    "    \"Contraception\",\n",
    "    \"Back-alley abortions\",\n",
    "    \"Hyde Amendment\",\n",
    "    \"Embryonic development\",\n",
    "    \"Women's reproductive rights\",\n",
    "    \"Maternal health\",\n",
    "    \"Unsafe abortions\",\n",
    "    \"Abortion pill\"\n",
    "]]\n"
   ]
  },
  {
   "cell_type": "code",
   "execution_count": 18,
   "id": "4b095a1f",
   "metadata": {},
   "outputs": [],
   "source": [
    "test_list = [['wendy', 'wendy', 'wendy']]"
   ]
  },
  {
   "cell_type": "code",
   "execution_count": 19,
   "id": "c71622ca",
   "metadata": {},
   "outputs": [],
   "source": [
    "import gensim.corpora as corpora"
   ]
  },
  {
   "cell_type": "code",
   "execution_count": 20,
   "id": "1b8ee6dd",
   "metadata": {},
   "outputs": [
    {
     "name": "stdout",
     "output_type": "stream",
     "text": [
      "[[(792, 3)]]\n"
     ]
    }
   ],
   "source": [
    "corpus = [dictionary.doc2bow(doc) for doc in test_list]\n",
    "print(corpus)"
   ]
  },
  {
   "cell_type": "code",
   "execution_count": 21,
   "id": "19b8de09",
   "metadata": {},
   "outputs": [
    {
     "name": "stdout",
     "output_type": "stream",
     "text": [
      "[(74, 0.66355014), (43, 0.010564322)]\n"
     ]
    }
   ],
   "source": [
    "topics = model.get_document_topics(corpus[0], minimum_probability=None, minimum_phi_value=None, per_word_topics=False)\n",
    "for id in topics:\n",
    "    topics.sort(key=lambda probability: probability[1], reverse=True)\n",
    "print(topics)"
   ]
  },
  {
   "cell_type": "code",
   "execution_count": 25,
   "id": "bedbeb37",
   "metadata": {
    "scrolled": false
   },
   "outputs": [
    {
     "data": {
      "text/plain": [
       "'0.053*\"progressives\" + 0.030*\"our work\" + 0.029*\"the progressive caucus\" + 0.027*\"raise\" + 0.023*\"work family\" + 0.021*\"the minimum wage\" + 0.021*\"november\" + 0.021*\"authorized\" + 0.020*\"a part\" + 0.020*\"touch\" + 0.019*\"any candidate\" + 0.019*\"progressive caucus\" + 0.019*\"pass\" + 0.019*\"congressional progressive caucus pac\" + 0.019*\"candidate’s committee\" + 0.018*\"bernie sanders\" + 0.018*\"republicans\" + 0.017*\"progressive\" + 0.016*\"-progressive caucus\\nthis message\" + 0.014*\"lose\"'"
      ]
     },
     "execution_count": 25,
     "metadata": {},
     "output_type": "execute_result"
    }
   ],
   "source": [
    "model.print_topic(9, topn=20)"
   ]
  },
  {
   "cell_type": "code",
   "execution_count": null,
   "id": "37d39ce5",
   "metadata": {},
   "outputs": [],
   "source": []
  }
 ],
 "metadata": {
  "kernelspec": {
   "display_name": "Python 3 (ipykernel)",
   "language": "python",
   "name": "python3"
  },
  "language_info": {
   "codemirror_mode": {
    "name": "ipython",
    "version": 3
   },
   "file_extension": ".py",
   "mimetype": "text/x-python",
   "name": "python",
   "nbconvert_exporter": "python",
   "pygments_lexer": "ipython3",
   "version": "3.10.9"
  }
 },
 "nbformat": 4,
 "nbformat_minor": 5
}
